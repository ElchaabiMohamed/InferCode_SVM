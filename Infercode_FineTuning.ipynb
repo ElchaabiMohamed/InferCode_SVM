{
  "cells": [
    {
      "cell_type": "markdown",
      "metadata": {
        "id": "OEWmlns1Pfpj"
      },
      "source": [
        "# Dataset Pre-processing\n"
      ]
    },
    {
      "cell_type": "markdown",
      "metadata": {
        "id": "dXdEWsgZN131"
      },
      "source": [
        "Load code2aes2vec repository :"
      ]
    },
    {
      "cell_type": "code",
      "execution_count": 4,
      "metadata": {
        "id": "goMVs6POycNh",
        "colab": {
          "base_uri": "https://localhost:8080/"
        },
        "outputId": "9536ad9a-a20d-4585-a74f-00af12f6a4a6"
      },
      "outputs": [
        {
          "output_type": "stream",
          "name": "stdout",
          "text": [
            "Cloning into 'code2aes2vec'...\n",
            "remote: Enumerating objects: 97, done.\u001b[K\n",
            "remote: Counting objects:   1% (1/97)\u001b[K\rremote: Counting objects:   2% (2/97)\u001b[K\rremote: Counting objects:   3% (3/97)\u001b[K\rremote: Counting objects:   4% (4/97)\u001b[K\rremote: Counting objects:   5% (5/97)\u001b[K\rremote: Counting objects:   6% (6/97)\u001b[K\rremote: Counting objects:   7% (7/97)\u001b[K\rremote: Counting objects:   8% (8/97)\u001b[K\rremote: Counting objects:   9% (9/97)\u001b[K\rremote: Counting objects:  10% (10/97)\u001b[K\rremote: Counting objects:  11% (11/97)\u001b[K\rremote: Counting objects:  12% (12/97)\u001b[K\rremote: Counting objects:  13% (13/97)\u001b[K\rremote: Counting objects:  14% (14/97)\u001b[K\rremote: Counting objects:  15% (15/97)\u001b[K\rremote: Counting objects:  16% (16/97)\u001b[K\rremote: Counting objects:  17% (17/97)\u001b[K\rremote: Counting objects:  18% (18/97)\u001b[K\rremote: Counting objects:  19% (19/97)\u001b[K\rremote: Counting objects:  20% (20/97)\u001b[K\rremote: Counting objects:  21% (21/97)\u001b[K\rremote: Counting objects:  22% (22/97)\u001b[K\rremote: Counting objects:  23% (23/97)\u001b[K\rremote: Counting objects:  24% (24/97)\u001b[K\rremote: Counting objects:  25% (25/97)\u001b[K\rremote: Counting objects:  26% (26/97)\u001b[K\rremote: Counting objects:  27% (27/97)\u001b[K\rremote: Counting objects:  28% (28/97)\u001b[K\rremote: Counting objects:  29% (29/97)\u001b[K\rremote: Counting objects:  30% (30/97)\u001b[K\rremote: Counting objects:  31% (31/97)\u001b[K\rremote: Counting objects:  32% (32/97)\u001b[K\rremote: Counting objects:  34% (33/97)\u001b[K\rremote: Counting objects:  35% (34/97)\u001b[K\rremote: Counting objects:  36% (35/97)\u001b[K\rremote: Counting objects:  37% (36/97)\u001b[K\rremote: Counting objects:  38% (37/97)\u001b[K\rremote: Counting objects:  39% (38/97)\u001b[K\rremote: Counting objects:  40% (39/97)\u001b[K\rremote: Counting objects:  41% (40/97)\u001b[K\rremote: Counting objects:  42% (41/97)\u001b[K\rremote: Counting objects:  43% (42/97)\u001b[K\rremote: Counting objects:  44% (43/97)\u001b[K\rremote: Counting objects:  45% (44/97)\u001b[K\rremote: Counting objects:  46% (45/97)\u001b[K\rremote: Counting objects:  47% (46/97)\u001b[K\rremote: Counting objects:  48% (47/97)\u001b[K\rremote: Counting objects:  49% (48/97)\u001b[K\rremote: Counting objects:  50% (49/97)\u001b[K\rremote: Counting objects:  51% (50/97)\u001b[K\rremote: Counting objects:  52% (51/97)\u001b[K\rremote: Counting objects:  53% (52/97)\u001b[K\rremote: Counting objects:  54% (53/97)\u001b[K\rremote: Counting objects:  55% (54/97)\u001b[K\rremote: Counting objects:  56% (55/97)\u001b[K\rremote: Counting objects:  57% (56/97)\u001b[K\rremote: Counting objects:  58% (57/97)\u001b[K\rremote: Counting objects:  59% (58/97)\u001b[K\rremote: Counting objects:  60% (59/97)\u001b[K\rremote: Counting objects:  61% (60/97)\u001b[K\rremote: Counting objects:  62% (61/97)\u001b[K\rremote: Counting objects:  63% (62/97)\u001b[K\rremote: Counting objects:  64% (63/97)\u001b[K\rremote: Counting objects:  65% (64/97)\u001b[K\rremote: Counting objects:  67% (65/97)\u001b[K\rremote: Counting objects:  68% (66/97)\u001b[K\rremote: Counting objects:  69% (67/97)\u001b[K\rremote: Counting objects:  70% (68/97)\u001b[K\rremote: Counting objects:  71% (69/97)\u001b[K\rremote: Counting objects:  72% (70/97)\u001b[K\rremote: Counting objects:  73% (71/97)\u001b[K\rremote: Counting objects:  74% (72/97)\u001b[K\rremote: Counting objects:  75% (73/97)\u001b[K\rremote: Counting objects:  76% (74/97)\u001b[K\rremote: Counting objects:  77% (75/97)\u001b[K\rremote: Counting objects:  78% (76/97)\u001b[K\rremote: Counting objects:  79% (77/97)\u001b[K\rremote: Counting objects:  80% (78/97)\u001b[K\rremote: Counting objects:  81% (79/97)\u001b[K\rremote: Counting objects:  82% (80/97)\u001b[K\rremote: Counting objects:  83% (81/97)\u001b[K\rremote: Counting objects:  84% (82/97)\u001b[K\rremote: Counting objects:  85% (83/97)\u001b[K\rremote: Counting objects:  86% (84/97)\u001b[K\rremote: Counting objects:  87% (85/97)\u001b[K\rremote: Counting objects:  88% (86/97)\u001b[K\rremote: Counting objects:  89% (87/97)\u001b[K\rremote: Counting objects:  90% (88/97)\u001b[K\rremote: Counting objects:  91% (89/97)\u001b[K\rremote: Counting objects:  92% (90/97)\u001b[K\rremote: Counting objects:  93% (91/97)\u001b[K\rremote: Counting objects:  94% (92/97)\u001b[K\rremote: Counting objects:  95% (93/97)\u001b[K\rremote: Counting objects:  96% (94/97)\u001b[K\rremote: Counting objects:  97% (95/97)\u001b[K\rremote: Counting objects:  98% (96/97)\u001b[K\rremote: Counting objects: 100% (97/97)\u001b[K\rremote: Counting objects: 100% (97/97), done.\u001b[K\n",
            "remote: Compressing objects: 100% (72/72), done.\u001b[K\n",
            "remote: Total 97 (delta 33), reused 82 (delta 22), pack-reused 0\u001b[K\n",
            "Unpacking objects: 100% (97/97), done.\n"
          ]
        }
      ],
      "source": [
        "!git clone https://github.com/GCleuziou/code2aes2vec.git"
      ]
    },
    {
      "cell_type": "markdown",
      "metadata": {
        "id": "Tb-P_HL8ODbT"
      },
      "source": [
        "Load the NewCaledonia_1014 (Attempt) dataset :"
      ]
    },
    {
      "cell_type": "code",
      "execution_count": 5,
      "metadata": {
        "id": "liACEoarOC9E"
      },
      "outputs": [],
      "source": [
        "from code2aes2vec.manage import jsonAttempts2data\n",
        "NC1014 = jsonAttempts2data('/content/code2aes2vec/Datasets/NewCaledonia_1014.json')"
      ]
    },
    {
      "cell_type": "code",
      "source": [
        "NC1014[96]"
      ],
      "metadata": {
        "colab": {
          "base_uri": "https://localhost:8080/"
        },
        "id": "EeQAPW15kjDw",
        "outputId": "e4284121-6841-488e-c992-757be81fa980"
      },
      "execution_count": 238,
      "outputs": [
        {
          "output_type": "execute_result",
          "data": {
            "text/plain": [
              "{'aes0': 'If Assign For If Assign For If For If For Return  If Assign For If For If For If Assign For Return  If Assign For If For If Assign For If For Return  If Assign Return  If Assign For If Assign For If For If For Return  If Assign For If For If For If Assign For Return  If Assign For If For If Assign For If For Return  If Assign Return  ',\n",
              " 'aes1': 'If Compare Assign min Subscript param1 For If Compare Assign min Subscript param1 For If Compare For If Compare For Return min  If Compare Assign min Subscript param1 For If Compare For If Compare For If Compare Assign min Subscript param1 For Return min  If Compare Assign min Subscript param1 For If Compare For If Compare Assign min Subscript param1 For If Compare For Return min  If Compare Assign min Constant_NoneType Return min  If Compare Assign min Subscript param1 For If Compare Assign min Subscript param1 For If Compare For If Compare For Return min  If Compare Assign min Subscript param1 For If Compare For If Compare For If Compare Assign min Subscript param1 For Return min  If Compare Assign min Subscript param1 For If Compare For If Compare Assign min Subscript param1 For If Compare For Return min  If Compare Assign min Constant_NoneType Return min  ',\n",
              " 'aes2': 'If Compare Call_len param1 Eq Constant_int Assign min Subscript param1 For var1 Call_range Constant_int Call_len param1 If Compare Subscript param1 Lt min Assign min Subscript param1 For var1 Call_range Constant_int Call_len param1 If Compare Subscript param1 Lt min For var1 Call_range Constant_int Call_len param1 If Compare Subscript param1 Lt min For var1 Call_range Constant_int Call_len param1 Return min  If Compare Call_len param1 Eq Constant_int Assign min Subscript param1 For var1 Call_range Constant_int Call_len param1 If Compare Subscript param1 Lt min For var1 Call_range Constant_int Call_len param1 If Compare Subscript param1 Lt min For var1 Call_range Constant_int Call_len param1 If Compare Subscript param1 Lt min Assign min Subscript param1 For var1 Call_range Constant_int Call_len param1 Return min  If Compare Call_len param1 Eq Constant_int Assign min Subscript param1 For var1 Call_range Constant_int Call_len param1 If Compare Subscript param1 Lt min For var1 Call_range Constant_int Call_len param1 If Compare Subscript param1 Lt min Assign min Subscript param1 For var1 Call_range Constant_int Call_len param1 If Compare Subscript param1 Lt min For var1 Call_range Constant_int Call_len param1 Return min  If Compare Call_len param1 Eq Constant_int Assign min Constant_NoneType Return min  If Compare Call_len param1 Eq Constant_int Assign min Subscript param1 For var1 Call_range Constant_int Call_len param1 If Compare Subscript param1 Lt min Assign min Subscript param1 For var1 Call_range Constant_int Call_len param1 If Compare Subscript param1 Lt min For var1 Call_range Constant_int Call_len param1 If Compare Subscript param1 Lt min For var1 Call_range Constant_int Call_len param1 Return min  If Compare Call_len param1 Eq Constant_int Assign min Subscript param1 For var1 Call_range Constant_int Call_len param1 If Compare Subscript param1 Lt min For var1 Call_range Constant_int Call_len param1 If Compare Subscript param1 Lt min For var1 Call_range Constant_int Call_len param1 If Compare Subscript param1 Lt min Assign min Subscript param1 For var1 Call_range Constant_int Call_len param1 Return min  If Compare Call_len param1 Eq Constant_int Assign min Subscript param1 For var1 Call_range Constant_int Call_len param1 If Compare Subscript param1 Lt min For var1 Call_range Constant_int Call_len param1 If Compare Subscript param1 Lt min Assign min Subscript param1 For var1 Call_range Constant_int Call_len param1 If Compare Subscript param1 Lt min For var1 Call_range Constant_int Call_len param1 Return min  If Compare Call_len param1 Eq Constant_int Assign min Constant_NoneType Return min  ',\n",
              " 'correct': '1',\n",
              " 'date': '2020-03-28 11:52:47',\n",
              " 'eval_set': 'training',\n",
              " 'exercise_name': '582dcbc047b264a41a011f56f86574ba',\n",
              " 'extension': 'py',\n",
              " 'upload': 'def minimum(liste):\\n    if len(liste)==0:\\n      min=None\\n    else:\\n      min=liste[0]\\n      for i in range(1,len(liste)):\\n        if liste[i]<min:\\n          min=liste[i]\\n    return min',\n",
              " 'user': 'userdId_11'}"
            ]
          },
          "metadata": {},
          "execution_count": 238
        }
      ]
    },
    {
      "cell_type": "markdown",
      "metadata": {
        "id": "GnA8TATiOQDa"
      },
      "source": [
        "Convert string code to python file"
      ]
    },
    {
      "cell_type": "code",
      "execution_count": 6,
      "metadata": {
        "id": "bdwH3O-VPCKK"
      },
      "outputs": [],
      "source": [
        "!mkdir NewCaledonie-1014-python-files"
      ]
    },
    {
      "cell_type": "code",
      "execution_count": 7,
      "metadata": {
        "id": "ns2HCCT1PJ2h"
      },
      "outputs": [],
      "source": [
        "for i in range(1,len(NC1014)+1):\n",
        "  #open text file\n",
        "  text_file = open(\"/content/NewCaledonie-1014-python-files/program_\"+str(i)+\".py\", \"w\")\n",
        "  \n",
        "  #write string to file\n",
        "  text_file.write(NC1014[i-1]['upload'])\n",
        "  \n",
        "  #close file\n",
        "  text_file.close()"
      ]
    },
    {
      "cell_type": "code",
      "source": [
        "labels_str = list()\n",
        "for i in range(1,len(NC1014)+1):\n",
        "  labels_str.append(NC1014[i-1]['exercise_name'])"
      ],
      "metadata": {
        "id": "u5znLAfhZasf"
      },
      "execution_count": 106,
      "outputs": []
    },
    {
      "cell_type": "code",
      "source": [
        "print(labels_str)"
      ],
      "metadata": {
        "colab": {
          "base_uri": "https://localhost:8080/"
        },
        "id": "mbJVV9STZ8dW",
        "outputId": "5ef51767-5493-4e68-b744-5b29b83ef50d"
      },
      "execution_count": 107,
      "outputs": [
        {
          "output_type": "stream",
          "name": "stdout",
          "text": [
            "['f918da384abe3dbfb19a02f888cbf3b1', 'f918da384abe3dbfb19a02f888cbf3b1', '0c9aa2cd6791f3c44ce75bb46fb0b625', '0c9aa2cd6791f3c44ce75bb46fb0b625', '709a3600dc12d686d1c8f691a0af1e19', '709a3600dc12d686d1c8f691a0af1e19', '3355182ef981952e841618c19103ef09', '0c9aa2cd6791f3c44ce75bb46fb0b625', '709a3600dc12d686d1c8f691a0af1e19', '3355182ef981952e841618c19103ef09', '4c3cff428b26be2b1464a3c9ee78c7cf', '709a3600dc12d686d1c8f691a0af1e19', 'f918da384abe3dbfb19a02f888cbf3b1', 'f918da384abe3dbfb19a02f888cbf3b1', 'f918da384abe3dbfb19a02f888cbf3b1', '709a3600dc12d686d1c8f691a0af1e19', '582dcbc047b264a41a011f56f86574ba', '582dcbc047b264a41a011f56f86574ba', 'f918da384abe3dbfb19a02f888cbf3b1', '582dcbc047b264a41a011f56f86574ba', '392e69c90b63b832ef1b1489027c9c7f', '392e69c90b63b832ef1b1489027c9c7f', '4c3cff428b26be2b1464a3c9ee78c7cf', '8c67b76032d571a8d7eca8796ed11752', '8c67b76032d571a8d7eca8796ed11752', '709a3600dc12d686d1c8f691a0af1e19', '8c67b76032d571a8d7eca8796ed11752', '709a3600dc12d686d1c8f691a0af1e19', '8c67b76032d571a8d7eca8796ed11752', '392e69c90b63b832ef1b1489027c9c7f', '709a3600dc12d686d1c8f691a0af1e19', '709a3600dc12d686d1c8f691a0af1e19', '0c9aa2cd6791f3c44ce75bb46fb0b625', '709a3600dc12d686d1c8f691a0af1e19', '8c67b76032d571a8d7eca8796ed11752', '4c3cff428b26be2b1464a3c9ee78c7cf', '3355182ef981952e841618c19103ef09', '709a3600dc12d686d1c8f691a0af1e19', '4c3cff428b26be2b1464a3c9ee78c7cf', '3355182ef981952e841618c19103ef09', 'f918da384abe3dbfb19a02f888cbf3b1', '4c3cff428b26be2b1464a3c9ee78c7cf', '0c9aa2cd6791f3c44ce75bb46fb0b625', '582dcbc047b264a41a011f56f86574ba', '709a3600dc12d686d1c8f691a0af1e19', '4c3cff428b26be2b1464a3c9ee78c7cf', '3355182ef981952e841618c19103ef09', '392e69c90b63b832ef1b1489027c9c7f', '709a3600dc12d686d1c8f691a0af1e19', '3355182ef981952e841618c19103ef09', 'f918da384abe3dbfb19a02f888cbf3b1', '8c67b76032d571a8d7eca8796ed11752', '709a3600dc12d686d1c8f691a0af1e19', '4c3cff428b26be2b1464a3c9ee78c7cf', '0c9aa2cd6791f3c44ce75bb46fb0b625', 'f918da384abe3dbfb19a02f888cbf3b1', '0c9aa2cd6791f3c44ce75bb46fb0b625', '8c67b76032d571a8d7eca8796ed11752', '0c9aa2cd6791f3c44ce75bb46fb0b625', '8c67b76032d571a8d7eca8796ed11752', '582dcbc047b264a41a011f56f86574ba', '392e69c90b63b832ef1b1489027c9c7f', '709a3600dc12d686d1c8f691a0af1e19', '582dcbc047b264a41a011f56f86574ba', '709a3600dc12d686d1c8f691a0af1e19', '709a3600dc12d686d1c8f691a0af1e19', '3355182ef981952e841618c19103ef09', '709a3600dc12d686d1c8f691a0af1e19', '3355182ef981952e841618c19103ef09', '0c9aa2cd6791f3c44ce75bb46fb0b625', '392e69c90b63b832ef1b1489027c9c7f', '4c3cff428b26be2b1464a3c9ee78c7cf', '8c67b76032d571a8d7eca8796ed11752', '0c9aa2cd6791f3c44ce75bb46fb0b625', '709a3600dc12d686d1c8f691a0af1e19', '0c9aa2cd6791f3c44ce75bb46fb0b625', '0c9aa2cd6791f3c44ce75bb46fb0b625', 'f918da384abe3dbfb19a02f888cbf3b1', '8c67b76032d571a8d7eca8796ed11752', '582dcbc047b264a41a011f56f86574ba', '392e69c90b63b832ef1b1489027c9c7f', '3355182ef981952e841618c19103ef09', '8c67b76032d571a8d7eca8796ed11752', '392e69c90b63b832ef1b1489027c9c7f', '4c3cff428b26be2b1464a3c9ee78c7cf', '0c9aa2cd6791f3c44ce75bb46fb0b625', '8c67b76032d571a8d7eca8796ed11752', 'f918da384abe3dbfb19a02f888cbf3b1', '582dcbc047b264a41a011f56f86574ba', '709a3600dc12d686d1c8f691a0af1e19', '8c67b76032d571a8d7eca8796ed11752', '4c3cff428b26be2b1464a3c9ee78c7cf', '3355182ef981952e841618c19103ef09', '0c9aa2cd6791f3c44ce75bb46fb0b625', '3355182ef981952e841618c19103ef09', '709a3600dc12d686d1c8f691a0af1e19', '582dcbc047b264a41a011f56f86574ba', '709a3600dc12d686d1c8f691a0af1e19', '392e69c90b63b832ef1b1489027c9c7f', '392e69c90b63b832ef1b1489027c9c7f', '0c9aa2cd6791f3c44ce75bb46fb0b625', '8c67b76032d571a8d7eca8796ed11752', '4c3cff428b26be2b1464a3c9ee78c7cf', '4c3cff428b26be2b1464a3c9ee78c7cf', '3355182ef981952e841618c19103ef09', '8c67b76032d571a8d7eca8796ed11752', 'f918da384abe3dbfb19a02f888cbf3b1', '392e69c90b63b832ef1b1489027c9c7f', '582dcbc047b264a41a011f56f86574ba', '0c9aa2cd6791f3c44ce75bb46fb0b625', '4c3cff428b26be2b1464a3c9ee78c7cf', '0c9aa2cd6791f3c44ce75bb46fb0b625', '582dcbc047b264a41a011f56f86574ba', '8c67b76032d571a8d7eca8796ed11752', '3355182ef981952e841618c19103ef09', '0c9aa2cd6791f3c44ce75bb46fb0b625', '8c67b76032d571a8d7eca8796ed11752', '709a3600dc12d686d1c8f691a0af1e19', '4c3cff428b26be2b1464a3c9ee78c7cf', '3355182ef981952e841618c19103ef09', '3355182ef981952e841618c19103ef09', '3355182ef981952e841618c19103ef09', '3355182ef981952e841618c19103ef09', '3355182ef981952e841618c19103ef09', '8c67b76032d571a8d7eca8796ed11752', '4c3cff428b26be2b1464a3c9ee78c7cf', '582dcbc047b264a41a011f56f86574ba', '709a3600dc12d686d1c8f691a0af1e19', '0c9aa2cd6791f3c44ce75bb46fb0b625', '4c3cff428b26be2b1464a3c9ee78c7cf', '392e69c90b63b832ef1b1489027c9c7f', '392e69c90b63b832ef1b1489027c9c7f', '392e69c90b63b832ef1b1489027c9c7f', '4c3cff428b26be2b1464a3c9ee78c7cf', 'f918da384abe3dbfb19a02f888cbf3b1', '582dcbc047b264a41a011f56f86574ba', 'f918da384abe3dbfb19a02f888cbf3b1', '8c67b76032d571a8d7eca8796ed11752', '709a3600dc12d686d1c8f691a0af1e19', '4c3cff428b26be2b1464a3c9ee78c7cf', '3355182ef981952e841618c19103ef09', '4c3cff428b26be2b1464a3c9ee78c7cf', '3355182ef981952e841618c19103ef09', '709a3600dc12d686d1c8f691a0af1e19', 'f918da384abe3dbfb19a02f888cbf3b1', '709a3600dc12d686d1c8f691a0af1e19', '8c67b76032d571a8d7eca8796ed11752', '0c9aa2cd6791f3c44ce75bb46fb0b625', '709a3600dc12d686d1c8f691a0af1e19', '709a3600dc12d686d1c8f691a0af1e19', '8c67b76032d571a8d7eca8796ed11752', '8c67b76032d571a8d7eca8796ed11752', '4c3cff428b26be2b1464a3c9ee78c7cf', '392e69c90b63b832ef1b1489027c9c7f', '4c3cff428b26be2b1464a3c9ee78c7cf', '3355182ef981952e841618c19103ef09', '3355182ef981952e841618c19103ef09', '8c67b76032d571a8d7eca8796ed11752', '392e69c90b63b832ef1b1489027c9c7f', '0c9aa2cd6791f3c44ce75bb46fb0b625', '582dcbc047b264a41a011f56f86574ba', '3355182ef981952e841618c19103ef09', '3355182ef981952e841618c19103ef09', '4c3cff428b26be2b1464a3c9ee78c7cf', '0c9aa2cd6791f3c44ce75bb46fb0b625', '392e69c90b63b832ef1b1489027c9c7f', 'f918da384abe3dbfb19a02f888cbf3b1', '392e69c90b63b832ef1b1489027c9c7f', '8c67b76032d571a8d7eca8796ed11752', '0c9aa2cd6791f3c44ce75bb46fb0b625', '709a3600dc12d686d1c8f691a0af1e19', '0c9aa2cd6791f3c44ce75bb46fb0b625', '582dcbc047b264a41a011f56f86574ba', '582dcbc047b264a41a011f56f86574ba', '582dcbc047b264a41a011f56f86574ba', '709a3600dc12d686d1c8f691a0af1e19', '4c3cff428b26be2b1464a3c9ee78c7cf', '8c67b76032d571a8d7eca8796ed11752', '3355182ef981952e841618c19103ef09', '3355182ef981952e841618c19103ef09', 'f918da384abe3dbfb19a02f888cbf3b1', '4c3cff428b26be2b1464a3c9ee78c7cf', '8c67b76032d571a8d7eca8796ed11752', '709a3600dc12d686d1c8f691a0af1e19', '3355182ef981952e841618c19103ef09', '3355182ef981952e841618c19103ef09', '582dcbc047b264a41a011f56f86574ba', '392e69c90b63b832ef1b1489027c9c7f', '8c67b76032d571a8d7eca8796ed11752', 'f918da384abe3dbfb19a02f888cbf3b1', '4c3cff428b26be2b1464a3c9ee78c7cf', 'f918da384abe3dbfb19a02f888cbf3b1', '8c67b76032d571a8d7eca8796ed11752', '582dcbc047b264a41a011f56f86574ba', '4c3cff428b26be2b1464a3c9ee78c7cf', '709a3600dc12d686d1c8f691a0af1e19', '4c3cff428b26be2b1464a3c9ee78c7cf', '582dcbc047b264a41a011f56f86574ba', '0c9aa2cd6791f3c44ce75bb46fb0b625', '582dcbc047b264a41a011f56f86574ba', '582dcbc047b264a41a011f56f86574ba', '8c67b76032d571a8d7eca8796ed11752', '0c9aa2cd6791f3c44ce75bb46fb0b625', '709a3600dc12d686d1c8f691a0af1e19', '3355182ef981952e841618c19103ef09', '392e69c90b63b832ef1b1489027c9c7f', '709a3600dc12d686d1c8f691a0af1e19', '392e69c90b63b832ef1b1489027c9c7f', 'f918da384abe3dbfb19a02f888cbf3b1', '0c9aa2cd6791f3c44ce75bb46fb0b625', '3355182ef981952e841618c19103ef09', '582dcbc047b264a41a011f56f86574ba', '8c67b76032d571a8d7eca8796ed11752', '709a3600dc12d686d1c8f691a0af1e19', '392e69c90b63b832ef1b1489027c9c7f', '582dcbc047b264a41a011f56f86574ba', 'f918da384abe3dbfb19a02f888cbf3b1', '3355182ef981952e841618c19103ef09', '392e69c90b63b832ef1b1489027c9c7f', 'f918da384abe3dbfb19a02f888cbf3b1', '709a3600dc12d686d1c8f691a0af1e19', '582dcbc047b264a41a011f56f86574ba', '392e69c90b63b832ef1b1489027c9c7f', '3355182ef981952e841618c19103ef09', '3355182ef981952e841618c19103ef09', 'f918da384abe3dbfb19a02f888cbf3b1', '392e69c90b63b832ef1b1489027c9c7f', '709a3600dc12d686d1c8f691a0af1e19', '392e69c90b63b832ef1b1489027c9c7f', 'f918da384abe3dbfb19a02f888cbf3b1', '4c3cff428b26be2b1464a3c9ee78c7cf', '709a3600dc12d686d1c8f691a0af1e19', '4c3cff428b26be2b1464a3c9ee78c7cf', 'f918da384abe3dbfb19a02f888cbf3b1', '0c9aa2cd6791f3c44ce75bb46fb0b625', '3355182ef981952e841618c19103ef09', '4c3cff428b26be2b1464a3c9ee78c7cf', '0c9aa2cd6791f3c44ce75bb46fb0b625', '582dcbc047b264a41a011f56f86574ba', '3355182ef981952e841618c19103ef09', '3355182ef981952e841618c19103ef09', '709a3600dc12d686d1c8f691a0af1e19', '582dcbc047b264a41a011f56f86574ba', '4c3cff428b26be2b1464a3c9ee78c7cf', '709a3600dc12d686d1c8f691a0af1e19', '0c9aa2cd6791f3c44ce75bb46fb0b625', '8c67b76032d571a8d7eca8796ed11752', '4c3cff428b26be2b1464a3c9ee78c7cf', '4c3cff428b26be2b1464a3c9ee78c7cf', '4c3cff428b26be2b1464a3c9ee78c7cf', '709a3600dc12d686d1c8f691a0af1e19', '8c67b76032d571a8d7eca8796ed11752', '582dcbc047b264a41a011f56f86574ba', '709a3600dc12d686d1c8f691a0af1e19', 'f918da384abe3dbfb19a02f888cbf3b1', '709a3600dc12d686d1c8f691a0af1e19', '709a3600dc12d686d1c8f691a0af1e19', '8c67b76032d571a8d7eca8796ed11752', '582dcbc047b264a41a011f56f86574ba', '0c9aa2cd6791f3c44ce75bb46fb0b625', 'f918da384abe3dbfb19a02f888cbf3b1', '582dcbc047b264a41a011f56f86574ba', 'f918da384abe3dbfb19a02f888cbf3b1', '709a3600dc12d686d1c8f691a0af1e19', '392e69c90b63b832ef1b1489027c9c7f', '392e69c90b63b832ef1b1489027c9c7f', '3355182ef981952e841618c19103ef09', '0c9aa2cd6791f3c44ce75bb46fb0b625', '582dcbc047b264a41a011f56f86574ba', '582dcbc047b264a41a011f56f86574ba', '0c9aa2cd6791f3c44ce75bb46fb0b625', '8c67b76032d571a8d7eca8796ed11752', '8c67b76032d571a8d7eca8796ed11752', '582dcbc047b264a41a011f56f86574ba', '392e69c90b63b832ef1b1489027c9c7f', '3355182ef981952e841618c19103ef09', '709a3600dc12d686d1c8f691a0af1e19', '8c67b76032d571a8d7eca8796ed11752', '3355182ef981952e841618c19103ef09', 'f918da384abe3dbfb19a02f888cbf3b1', '0c9aa2cd6791f3c44ce75bb46fb0b625', 'f918da384abe3dbfb19a02f888cbf3b1', '392e69c90b63b832ef1b1489027c9c7f', '582dcbc047b264a41a011f56f86574ba', '582dcbc047b264a41a011f56f86574ba', '582dcbc047b264a41a011f56f86574ba', '4c3cff428b26be2b1464a3c9ee78c7cf', '0c9aa2cd6791f3c44ce75bb46fb0b625', '709a3600dc12d686d1c8f691a0af1e19', '4c3cff428b26be2b1464a3c9ee78c7cf', 'f918da384abe3dbfb19a02f888cbf3b1', '8c67b76032d571a8d7eca8796ed11752', '709a3600dc12d686d1c8f691a0af1e19', '4c3cff428b26be2b1464a3c9ee78c7cf', '709a3600dc12d686d1c8f691a0af1e19', 'f918da384abe3dbfb19a02f888cbf3b1', '8c67b76032d571a8d7eca8796ed11752', '3355182ef981952e841618c19103ef09', '8c67b76032d571a8d7eca8796ed11752', '392e69c90b63b832ef1b1489027c9c7f', '0c9aa2cd6791f3c44ce75bb46fb0b625', 'f918da384abe3dbfb19a02f888cbf3b1', '709a3600dc12d686d1c8f691a0af1e19', '8c67b76032d571a8d7eca8796ed11752', '582dcbc047b264a41a011f56f86574ba', '3355182ef981952e841618c19103ef09', '0c9aa2cd6791f3c44ce75bb46fb0b625', '392e69c90b63b832ef1b1489027c9c7f', '8c67b76032d571a8d7eca8796ed11752', '3355182ef981952e841618c19103ef09', 'f918da384abe3dbfb19a02f888cbf3b1', '582dcbc047b264a41a011f56f86574ba', '0c9aa2cd6791f3c44ce75bb46fb0b625', '709a3600dc12d686d1c8f691a0af1e19', '582dcbc047b264a41a011f56f86574ba', '3355182ef981952e841618c19103ef09', 'f918da384abe3dbfb19a02f888cbf3b1', 'f918da384abe3dbfb19a02f888cbf3b1', '582dcbc047b264a41a011f56f86574ba', '582dcbc047b264a41a011f56f86574ba', 'f918da384abe3dbfb19a02f888cbf3b1', '709a3600dc12d686d1c8f691a0af1e19', 'f918da384abe3dbfb19a02f888cbf3b1', '582dcbc047b264a41a011f56f86574ba', '4c3cff428b26be2b1464a3c9ee78c7cf', '582dcbc047b264a41a011f56f86574ba', '392e69c90b63b832ef1b1489027c9c7f', '709a3600dc12d686d1c8f691a0af1e19', '3355182ef981952e841618c19103ef09', '3355182ef981952e841618c19103ef09', '392e69c90b63b832ef1b1489027c9c7f', 'f918da384abe3dbfb19a02f888cbf3b1', '0c9aa2cd6791f3c44ce75bb46fb0b625', 'f918da384abe3dbfb19a02f888cbf3b1', '709a3600dc12d686d1c8f691a0af1e19', 'f918da384abe3dbfb19a02f888cbf3b1', '0c9aa2cd6791f3c44ce75bb46fb0b625', '4c3cff428b26be2b1464a3c9ee78c7cf', '8c67b76032d571a8d7eca8796ed11752', '0c9aa2cd6791f3c44ce75bb46fb0b625', '0c9aa2cd6791f3c44ce75bb46fb0b625', 'f918da384abe3dbfb19a02f888cbf3b1', '8c67b76032d571a8d7eca8796ed11752', '392e69c90b63b832ef1b1489027c9c7f', '709a3600dc12d686d1c8f691a0af1e19', '392e69c90b63b832ef1b1489027c9c7f', '0c9aa2cd6791f3c44ce75bb46fb0b625', '8c67b76032d571a8d7eca8796ed11752', '4c3cff428b26be2b1464a3c9ee78c7cf', 'f918da384abe3dbfb19a02f888cbf3b1', 'f918da384abe3dbfb19a02f888cbf3b1', '0c9aa2cd6791f3c44ce75bb46fb0b625', '4c3cff428b26be2b1464a3c9ee78c7cf', '709a3600dc12d686d1c8f691a0af1e19', '8c67b76032d571a8d7eca8796ed11752', '392e69c90b63b832ef1b1489027c9c7f', '4c3cff428b26be2b1464a3c9ee78c7cf', '582dcbc047b264a41a011f56f86574ba', '392e69c90b63b832ef1b1489027c9c7f', '8c67b76032d571a8d7eca8796ed11752', '8c67b76032d571a8d7eca8796ed11752', '8c67b76032d571a8d7eca8796ed11752', '0c9aa2cd6791f3c44ce75bb46fb0b625', '582dcbc047b264a41a011f56f86574ba', 'f918da384abe3dbfb19a02f888cbf3b1', '0c9aa2cd6791f3c44ce75bb46fb0b625', '709a3600dc12d686d1c8f691a0af1e19', '709a3600dc12d686d1c8f691a0af1e19', '582dcbc047b264a41a011f56f86574ba', '709a3600dc12d686d1c8f691a0af1e19', 'f918da384abe3dbfb19a02f888cbf3b1', 'f918da384abe3dbfb19a02f888cbf3b1', '0c9aa2cd6791f3c44ce75bb46fb0b625', '4c3cff428b26be2b1464a3c9ee78c7cf', '3355182ef981952e841618c19103ef09', '8c67b76032d571a8d7eca8796ed11752', '3355182ef981952e841618c19103ef09', '8c67b76032d571a8d7eca8796ed11752', '8c67b76032d571a8d7eca8796ed11752', '3355182ef981952e841618c19103ef09', '3355182ef981952e841618c19103ef09', '0c9aa2cd6791f3c44ce75bb46fb0b625', '8c67b76032d571a8d7eca8796ed11752', '392e69c90b63b832ef1b1489027c9c7f', '392e69c90b63b832ef1b1489027c9c7f', '8c67b76032d571a8d7eca8796ed11752', '4c3cff428b26be2b1464a3c9ee78c7cf', '8c67b76032d571a8d7eca8796ed11752', '8c67b76032d571a8d7eca8796ed11752', '8c67b76032d571a8d7eca8796ed11752', '709a3600dc12d686d1c8f691a0af1e19', '4c3cff428b26be2b1464a3c9ee78c7cf', '582dcbc047b264a41a011f56f86574ba', '3355182ef981952e841618c19103ef09', '8c67b76032d571a8d7eca8796ed11752', '709a3600dc12d686d1c8f691a0af1e19', '709a3600dc12d686d1c8f691a0af1e19', 'f918da384abe3dbfb19a02f888cbf3b1', '3355182ef981952e841618c19103ef09', '4c3cff428b26be2b1464a3c9ee78c7cf', '392e69c90b63b832ef1b1489027c9c7f', '3355182ef981952e841618c19103ef09', '582dcbc047b264a41a011f56f86574ba', 'f918da384abe3dbfb19a02f888cbf3b1', '8c67b76032d571a8d7eca8796ed11752', '4c3cff428b26be2b1464a3c9ee78c7cf', '392e69c90b63b832ef1b1489027c9c7f', '392e69c90b63b832ef1b1489027c9c7f', '709a3600dc12d686d1c8f691a0af1e19', '4c3cff428b26be2b1464a3c9ee78c7cf', '392e69c90b63b832ef1b1489027c9c7f', '4c3cff428b26be2b1464a3c9ee78c7cf', '709a3600dc12d686d1c8f691a0af1e19', '709a3600dc12d686d1c8f691a0af1e19', '582dcbc047b264a41a011f56f86574ba', '3355182ef981952e841618c19103ef09', '3355182ef981952e841618c19103ef09', '3355182ef981952e841618c19103ef09', '4c3cff428b26be2b1464a3c9ee78c7cf', '3355182ef981952e841618c19103ef09', '4c3cff428b26be2b1464a3c9ee78c7cf', '709a3600dc12d686d1c8f691a0af1e19', '8c67b76032d571a8d7eca8796ed11752', '709a3600dc12d686d1c8f691a0af1e19', 'f918da384abe3dbfb19a02f888cbf3b1', '392e69c90b63b832ef1b1489027c9c7f', 'f918da384abe3dbfb19a02f888cbf3b1', '0c9aa2cd6791f3c44ce75bb46fb0b625', '582dcbc047b264a41a011f56f86574ba', '709a3600dc12d686d1c8f691a0af1e19', '4c3cff428b26be2b1464a3c9ee78c7cf', 'f918da384abe3dbfb19a02f888cbf3b1', '709a3600dc12d686d1c8f691a0af1e19', '0c9aa2cd6791f3c44ce75bb46fb0b625', 'f918da384abe3dbfb19a02f888cbf3b1', '582dcbc047b264a41a011f56f86574ba', '709a3600dc12d686d1c8f691a0af1e19', '8c67b76032d571a8d7eca8796ed11752', '582dcbc047b264a41a011f56f86574ba', '8c67b76032d571a8d7eca8796ed11752', '709a3600dc12d686d1c8f691a0af1e19', '0c9aa2cd6791f3c44ce75bb46fb0b625', '4c3cff428b26be2b1464a3c9ee78c7cf', '4c3cff428b26be2b1464a3c9ee78c7cf', '392e69c90b63b832ef1b1489027c9c7f', '392e69c90b63b832ef1b1489027c9c7f', '8c67b76032d571a8d7eca8796ed11752', '582dcbc047b264a41a011f56f86574ba', '709a3600dc12d686d1c8f691a0af1e19', 'f918da384abe3dbfb19a02f888cbf3b1', '709a3600dc12d686d1c8f691a0af1e19', '3355182ef981952e841618c19103ef09', '0c9aa2cd6791f3c44ce75bb46fb0b625', '0c9aa2cd6791f3c44ce75bb46fb0b625', '0c9aa2cd6791f3c44ce75bb46fb0b625', '8c67b76032d571a8d7eca8796ed11752', '8c67b76032d571a8d7eca8796ed11752', '0c9aa2cd6791f3c44ce75bb46fb0b625', '392e69c90b63b832ef1b1489027c9c7f', '392e69c90b63b832ef1b1489027c9c7f', '582dcbc047b264a41a011f56f86574ba', '8c67b76032d571a8d7eca8796ed11752', '3355182ef981952e841618c19103ef09', '4c3cff428b26be2b1464a3c9ee78c7cf', '4c3cff428b26be2b1464a3c9ee78c7cf', '0c9aa2cd6791f3c44ce75bb46fb0b625', '709a3600dc12d686d1c8f691a0af1e19', '709a3600dc12d686d1c8f691a0af1e19', '392e69c90b63b832ef1b1489027c9c7f', '4c3cff428b26be2b1464a3c9ee78c7cf', '709a3600dc12d686d1c8f691a0af1e19', '392e69c90b63b832ef1b1489027c9c7f', '392e69c90b63b832ef1b1489027c9c7f', '392e69c90b63b832ef1b1489027c9c7f', '4c3cff428b26be2b1464a3c9ee78c7cf', '4c3cff428b26be2b1464a3c9ee78c7cf', '582dcbc047b264a41a011f56f86574ba', '3355182ef981952e841618c19103ef09', '8c67b76032d571a8d7eca8796ed11752', '709a3600dc12d686d1c8f691a0af1e19', '582dcbc047b264a41a011f56f86574ba', 'f918da384abe3dbfb19a02f888cbf3b1', '3355182ef981952e841618c19103ef09', '582dcbc047b264a41a011f56f86574ba', '4c3cff428b26be2b1464a3c9ee78c7cf', '0c9aa2cd6791f3c44ce75bb46fb0b625', '3355182ef981952e841618c19103ef09', '582dcbc047b264a41a011f56f86574ba', '392e69c90b63b832ef1b1489027c9c7f', '582dcbc047b264a41a011f56f86574ba', '3355182ef981952e841618c19103ef09', '4c3cff428b26be2b1464a3c9ee78c7cf', '8c67b76032d571a8d7eca8796ed11752', '709a3600dc12d686d1c8f691a0af1e19', '8c67b76032d571a8d7eca8796ed11752', 'f918da384abe3dbfb19a02f888cbf3b1', 'f918da384abe3dbfb19a02f888cbf3b1', '8c67b76032d571a8d7eca8796ed11752', '4c3cff428b26be2b1464a3c9ee78c7cf', 'f918da384abe3dbfb19a02f888cbf3b1', '582dcbc047b264a41a011f56f86574ba', 'f918da384abe3dbfb19a02f888cbf3b1', '3355182ef981952e841618c19103ef09', '582dcbc047b264a41a011f56f86574ba', 'f918da384abe3dbfb19a02f888cbf3b1', '8c67b76032d571a8d7eca8796ed11752', '4c3cff428b26be2b1464a3c9ee78c7cf', '392e69c90b63b832ef1b1489027c9c7f', '8c67b76032d571a8d7eca8796ed11752', '3355182ef981952e841618c19103ef09', '709a3600dc12d686d1c8f691a0af1e19', '709a3600dc12d686d1c8f691a0af1e19', '582dcbc047b264a41a011f56f86574ba', '8c67b76032d571a8d7eca8796ed11752', '8c67b76032d571a8d7eca8796ed11752', '4c3cff428b26be2b1464a3c9ee78c7cf', '709a3600dc12d686d1c8f691a0af1e19', '8c67b76032d571a8d7eca8796ed11752', '0c9aa2cd6791f3c44ce75bb46fb0b625', '8c67b76032d571a8d7eca8796ed11752', 'f918da384abe3dbfb19a02f888cbf3b1', '4c3cff428b26be2b1464a3c9ee78c7cf', '709a3600dc12d686d1c8f691a0af1e19', '0c9aa2cd6791f3c44ce75bb46fb0b625', '582dcbc047b264a41a011f56f86574ba', 'f918da384abe3dbfb19a02f888cbf3b1', '392e69c90b63b832ef1b1489027c9c7f', '4c3cff428b26be2b1464a3c9ee78c7cf', '709a3600dc12d686d1c8f691a0af1e19', '8c67b76032d571a8d7eca8796ed11752', '8c67b76032d571a8d7eca8796ed11752', '709a3600dc12d686d1c8f691a0af1e19', '8c67b76032d571a8d7eca8796ed11752', '582dcbc047b264a41a011f56f86574ba', '4c3cff428b26be2b1464a3c9ee78c7cf', 'f918da384abe3dbfb19a02f888cbf3b1', 'f918da384abe3dbfb19a02f888cbf3b1', '0c9aa2cd6791f3c44ce75bb46fb0b625', '709a3600dc12d686d1c8f691a0af1e19', 'f918da384abe3dbfb19a02f888cbf3b1', '4c3cff428b26be2b1464a3c9ee78c7cf', 'f918da384abe3dbfb19a02f888cbf3b1', '582dcbc047b264a41a011f56f86574ba', '0c9aa2cd6791f3c44ce75bb46fb0b625', '709a3600dc12d686d1c8f691a0af1e19', '582dcbc047b264a41a011f56f86574ba', '0c9aa2cd6791f3c44ce75bb46fb0b625', 'f918da384abe3dbfb19a02f888cbf3b1', '4c3cff428b26be2b1464a3c9ee78c7cf', '8c67b76032d571a8d7eca8796ed11752', '582dcbc047b264a41a011f56f86574ba', '392e69c90b63b832ef1b1489027c9c7f', '0c9aa2cd6791f3c44ce75bb46fb0b625', '582dcbc047b264a41a011f56f86574ba', '392e69c90b63b832ef1b1489027c9c7f', '3355182ef981952e841618c19103ef09', '4c3cff428b26be2b1464a3c9ee78c7cf', '582dcbc047b264a41a011f56f86574ba', '0c9aa2cd6791f3c44ce75bb46fb0b625', '392e69c90b63b832ef1b1489027c9c7f', '0c9aa2cd6791f3c44ce75bb46fb0b625', '392e69c90b63b832ef1b1489027c9c7f', '709a3600dc12d686d1c8f691a0af1e19', '0c9aa2cd6791f3c44ce75bb46fb0b625', 'f918da384abe3dbfb19a02f888cbf3b1', '582dcbc047b264a41a011f56f86574ba', '709a3600dc12d686d1c8f691a0af1e19', 'f918da384abe3dbfb19a02f888cbf3b1', '582dcbc047b264a41a011f56f86574ba', '709a3600dc12d686d1c8f691a0af1e19', '8c67b76032d571a8d7eca8796ed11752', 'f918da384abe3dbfb19a02f888cbf3b1', '709a3600dc12d686d1c8f691a0af1e19', 'f918da384abe3dbfb19a02f888cbf3b1', 'f918da384abe3dbfb19a02f888cbf3b1', '3355182ef981952e841618c19103ef09', '8c67b76032d571a8d7eca8796ed11752', '0c9aa2cd6791f3c44ce75bb46fb0b625', '8c67b76032d571a8d7eca8796ed11752', '8c67b76032d571a8d7eca8796ed11752', '709a3600dc12d686d1c8f691a0af1e19', '3355182ef981952e841618c19103ef09', '582dcbc047b264a41a011f56f86574ba', '582dcbc047b264a41a011f56f86574ba', '582dcbc047b264a41a011f56f86574ba', '3355182ef981952e841618c19103ef09', '582dcbc047b264a41a011f56f86574ba', '582dcbc047b264a41a011f56f86574ba', '8c67b76032d571a8d7eca8796ed11752', '3355182ef981952e841618c19103ef09', '392e69c90b63b832ef1b1489027c9c7f', '582dcbc047b264a41a011f56f86574ba', '8c67b76032d571a8d7eca8796ed11752', '4c3cff428b26be2b1464a3c9ee78c7cf', '8c67b76032d571a8d7eca8796ed11752', '8c67b76032d571a8d7eca8796ed11752', '4c3cff428b26be2b1464a3c9ee78c7cf', '582dcbc047b264a41a011f56f86574ba', '392e69c90b63b832ef1b1489027c9c7f', '8c67b76032d571a8d7eca8796ed11752', '709a3600dc12d686d1c8f691a0af1e19', '709a3600dc12d686d1c8f691a0af1e19', '4c3cff428b26be2b1464a3c9ee78c7cf', '3355182ef981952e841618c19103ef09', '0c9aa2cd6791f3c44ce75bb46fb0b625', '709a3600dc12d686d1c8f691a0af1e19', '4c3cff428b26be2b1464a3c9ee78c7cf', '392e69c90b63b832ef1b1489027c9c7f', '3355182ef981952e841618c19103ef09', '709a3600dc12d686d1c8f691a0af1e19', '4c3cff428b26be2b1464a3c9ee78c7cf', '709a3600dc12d686d1c8f691a0af1e19', '3355182ef981952e841618c19103ef09', '0c9aa2cd6791f3c44ce75bb46fb0b625', '0c9aa2cd6791f3c44ce75bb46fb0b625', '392e69c90b63b832ef1b1489027c9c7f', '582dcbc047b264a41a011f56f86574ba', '709a3600dc12d686d1c8f691a0af1e19', '8c67b76032d571a8d7eca8796ed11752', '3355182ef981952e841618c19103ef09', '3355182ef981952e841618c19103ef09', '3355182ef981952e841618c19103ef09', '4c3cff428b26be2b1464a3c9ee78c7cf', 'f918da384abe3dbfb19a02f888cbf3b1', '709a3600dc12d686d1c8f691a0af1e19', '8c67b76032d571a8d7eca8796ed11752', '582dcbc047b264a41a011f56f86574ba', '709a3600dc12d686d1c8f691a0af1e19', '392e69c90b63b832ef1b1489027c9c7f', '0c9aa2cd6791f3c44ce75bb46fb0b625', '4c3cff428b26be2b1464a3c9ee78c7cf', '709a3600dc12d686d1c8f691a0af1e19', '392e69c90b63b832ef1b1489027c9c7f', '4c3cff428b26be2b1464a3c9ee78c7cf', '709a3600dc12d686d1c8f691a0af1e19', '709a3600dc12d686d1c8f691a0af1e19', '392e69c90b63b832ef1b1489027c9c7f', '0c9aa2cd6791f3c44ce75bb46fb0b625', '709a3600dc12d686d1c8f691a0af1e19', '0c9aa2cd6791f3c44ce75bb46fb0b625', '392e69c90b63b832ef1b1489027c9c7f', '4c3cff428b26be2b1464a3c9ee78c7cf', '8c67b76032d571a8d7eca8796ed11752', '709a3600dc12d686d1c8f691a0af1e19', '392e69c90b63b832ef1b1489027c9c7f', '392e69c90b63b832ef1b1489027c9c7f', '582dcbc047b264a41a011f56f86574ba', 'f918da384abe3dbfb19a02f888cbf3b1', '582dcbc047b264a41a011f56f86574ba', '8c67b76032d571a8d7eca8796ed11752', '4c3cff428b26be2b1464a3c9ee78c7cf', '709a3600dc12d686d1c8f691a0af1e19', '8c67b76032d571a8d7eca8796ed11752', '8c67b76032d571a8d7eca8796ed11752', 'f918da384abe3dbfb19a02f888cbf3b1', '4c3cff428b26be2b1464a3c9ee78c7cf', '3355182ef981952e841618c19103ef09', '3355182ef981952e841618c19103ef09', '8c67b76032d571a8d7eca8796ed11752', '4c3cff428b26be2b1464a3c9ee78c7cf', '8c67b76032d571a8d7eca8796ed11752', '4c3cff428b26be2b1464a3c9ee78c7cf', '0c9aa2cd6791f3c44ce75bb46fb0b625', '4c3cff428b26be2b1464a3c9ee78c7cf', '0c9aa2cd6791f3c44ce75bb46fb0b625', '4c3cff428b26be2b1464a3c9ee78c7cf', '4c3cff428b26be2b1464a3c9ee78c7cf', '709a3600dc12d686d1c8f691a0af1e19', '709a3600dc12d686d1c8f691a0af1e19', '709a3600dc12d686d1c8f691a0af1e19', 'f918da384abe3dbfb19a02f888cbf3b1', 'f918da384abe3dbfb19a02f888cbf3b1', '392e69c90b63b832ef1b1489027c9c7f', '0c9aa2cd6791f3c44ce75bb46fb0b625', '3355182ef981952e841618c19103ef09', '709a3600dc12d686d1c8f691a0af1e19', '8c67b76032d571a8d7eca8796ed11752', '0c9aa2cd6791f3c44ce75bb46fb0b625', '3355182ef981952e841618c19103ef09', '0c9aa2cd6791f3c44ce75bb46fb0b625', '709a3600dc12d686d1c8f691a0af1e19', '582dcbc047b264a41a011f56f86574ba', 'f918da384abe3dbfb19a02f888cbf3b1', '8c67b76032d571a8d7eca8796ed11752', 'f918da384abe3dbfb19a02f888cbf3b1', '4c3cff428b26be2b1464a3c9ee78c7cf', '8c67b76032d571a8d7eca8796ed11752', '3355182ef981952e841618c19103ef09', '4c3cff428b26be2b1464a3c9ee78c7cf', '582dcbc047b264a41a011f56f86574ba', '0c9aa2cd6791f3c44ce75bb46fb0b625', '8c67b76032d571a8d7eca8796ed11752', '4c3cff428b26be2b1464a3c9ee78c7cf', 'f918da384abe3dbfb19a02f888cbf3b1', 'f918da384abe3dbfb19a02f888cbf3b1', '709a3600dc12d686d1c8f691a0af1e19', '4c3cff428b26be2b1464a3c9ee78c7cf', '8c67b76032d571a8d7eca8796ed11752', '0c9aa2cd6791f3c44ce75bb46fb0b625', '392e69c90b63b832ef1b1489027c9c7f', '582dcbc047b264a41a011f56f86574ba', '709a3600dc12d686d1c8f691a0af1e19', '4c3cff428b26be2b1464a3c9ee78c7cf', '8c67b76032d571a8d7eca8796ed11752', '4c3cff428b26be2b1464a3c9ee78c7cf', '4c3cff428b26be2b1464a3c9ee78c7cf', '392e69c90b63b832ef1b1489027c9c7f', 'f918da384abe3dbfb19a02f888cbf3b1', '709a3600dc12d686d1c8f691a0af1e19', '3355182ef981952e841618c19103ef09', '709a3600dc12d686d1c8f691a0af1e19', '709a3600dc12d686d1c8f691a0af1e19', '0c9aa2cd6791f3c44ce75bb46fb0b625', '709a3600dc12d686d1c8f691a0af1e19', '4c3cff428b26be2b1464a3c9ee78c7cf', '709a3600dc12d686d1c8f691a0af1e19', '392e69c90b63b832ef1b1489027c9c7f', '4c3cff428b26be2b1464a3c9ee78c7cf', '709a3600dc12d686d1c8f691a0af1e19', '3355182ef981952e841618c19103ef09', '582dcbc047b264a41a011f56f86574ba', '8c67b76032d571a8d7eca8796ed11752', '4c3cff428b26be2b1464a3c9ee78c7cf', '8c67b76032d571a8d7eca8796ed11752', '709a3600dc12d686d1c8f691a0af1e19', '8c67b76032d571a8d7eca8796ed11752', '4c3cff428b26be2b1464a3c9ee78c7cf', '392e69c90b63b832ef1b1489027c9c7f', 'f918da384abe3dbfb19a02f888cbf3b1', '4c3cff428b26be2b1464a3c9ee78c7cf', '8c67b76032d571a8d7eca8796ed11752', 'f918da384abe3dbfb19a02f888cbf3b1', '8c67b76032d571a8d7eca8796ed11752', '0c9aa2cd6791f3c44ce75bb46fb0b625', 'f918da384abe3dbfb19a02f888cbf3b1', '3355182ef981952e841618c19103ef09', '0c9aa2cd6791f3c44ce75bb46fb0b625', 'f918da384abe3dbfb19a02f888cbf3b1', '392e69c90b63b832ef1b1489027c9c7f', 'f918da384abe3dbfb19a02f888cbf3b1', '0c9aa2cd6791f3c44ce75bb46fb0b625', '3355182ef981952e841618c19103ef09', 'f918da384abe3dbfb19a02f888cbf3b1', '709a3600dc12d686d1c8f691a0af1e19', '709a3600dc12d686d1c8f691a0af1e19', '8c67b76032d571a8d7eca8796ed11752', '709a3600dc12d686d1c8f691a0af1e19', '0c9aa2cd6791f3c44ce75bb46fb0b625', '3355182ef981952e841618c19103ef09', '4c3cff428b26be2b1464a3c9ee78c7cf', '4c3cff428b26be2b1464a3c9ee78c7cf', '3355182ef981952e841618c19103ef09', '8c67b76032d571a8d7eca8796ed11752', '3355182ef981952e841618c19103ef09', '709a3600dc12d686d1c8f691a0af1e19', 'f918da384abe3dbfb19a02f888cbf3b1', '709a3600dc12d686d1c8f691a0af1e19', '392e69c90b63b832ef1b1489027c9c7f', '582dcbc047b264a41a011f56f86574ba', '582dcbc047b264a41a011f56f86574ba', '709a3600dc12d686d1c8f691a0af1e19', '3355182ef981952e841618c19103ef09', '709a3600dc12d686d1c8f691a0af1e19', '4c3cff428b26be2b1464a3c9ee78c7cf', '8c67b76032d571a8d7eca8796ed11752', '4c3cff428b26be2b1464a3c9ee78c7cf', '4c3cff428b26be2b1464a3c9ee78c7cf', '392e69c90b63b832ef1b1489027c9c7f', '8c67b76032d571a8d7eca8796ed11752', '8c67b76032d571a8d7eca8796ed11752', 'f918da384abe3dbfb19a02f888cbf3b1', '3355182ef981952e841618c19103ef09', '0c9aa2cd6791f3c44ce75bb46fb0b625', '4c3cff428b26be2b1464a3c9ee78c7cf', '4c3cff428b26be2b1464a3c9ee78c7cf', '709a3600dc12d686d1c8f691a0af1e19', '582dcbc047b264a41a011f56f86574ba', '709a3600dc12d686d1c8f691a0af1e19', '3355182ef981952e841618c19103ef09', '709a3600dc12d686d1c8f691a0af1e19', 'f918da384abe3dbfb19a02f888cbf3b1', 'f918da384abe3dbfb19a02f888cbf3b1', '8c67b76032d571a8d7eca8796ed11752', '709a3600dc12d686d1c8f691a0af1e19', '8c67b76032d571a8d7eca8796ed11752', '8c67b76032d571a8d7eca8796ed11752', '709a3600dc12d686d1c8f691a0af1e19', '4c3cff428b26be2b1464a3c9ee78c7cf', '8c67b76032d571a8d7eca8796ed11752', 'f918da384abe3dbfb19a02f888cbf3b1', '582dcbc047b264a41a011f56f86574ba', '582dcbc047b264a41a011f56f86574ba', '709a3600dc12d686d1c8f691a0af1e19', 'f918da384abe3dbfb19a02f888cbf3b1', '8c67b76032d571a8d7eca8796ed11752', '8c67b76032d571a8d7eca8796ed11752', '709a3600dc12d686d1c8f691a0af1e19', '0c9aa2cd6791f3c44ce75bb46fb0b625', '0c9aa2cd6791f3c44ce75bb46fb0b625', '4c3cff428b26be2b1464a3c9ee78c7cf', 'f918da384abe3dbfb19a02f888cbf3b1', '0c9aa2cd6791f3c44ce75bb46fb0b625', '709a3600dc12d686d1c8f691a0af1e19', 'f918da384abe3dbfb19a02f888cbf3b1', '3355182ef981952e841618c19103ef09', '709a3600dc12d686d1c8f691a0af1e19', 'f918da384abe3dbfb19a02f888cbf3b1', '709a3600dc12d686d1c8f691a0af1e19', '4c3cff428b26be2b1464a3c9ee78c7cf', '392e69c90b63b832ef1b1489027c9c7f', '3355182ef981952e841618c19103ef09', '8c67b76032d571a8d7eca8796ed11752', '392e69c90b63b832ef1b1489027c9c7f', '4c3cff428b26be2b1464a3c9ee78c7cf', '4c3cff428b26be2b1464a3c9ee78c7cf', '4c3cff428b26be2b1464a3c9ee78c7cf', '3355182ef981952e841618c19103ef09', 'f918da384abe3dbfb19a02f888cbf3b1', 'f918da384abe3dbfb19a02f888cbf3b1', '709a3600dc12d686d1c8f691a0af1e19', '0c9aa2cd6791f3c44ce75bb46fb0b625', '392e69c90b63b832ef1b1489027c9c7f', '709a3600dc12d686d1c8f691a0af1e19', '709a3600dc12d686d1c8f691a0af1e19', 'f918da384abe3dbfb19a02f888cbf3b1', '0c9aa2cd6791f3c44ce75bb46fb0b625', 'f918da384abe3dbfb19a02f888cbf3b1', '0c9aa2cd6791f3c44ce75bb46fb0b625', '4c3cff428b26be2b1464a3c9ee78c7cf', '8c67b76032d571a8d7eca8796ed11752', '8c67b76032d571a8d7eca8796ed11752', '392e69c90b63b832ef1b1489027c9c7f', '8c67b76032d571a8d7eca8796ed11752', '8c67b76032d571a8d7eca8796ed11752', '8c67b76032d571a8d7eca8796ed11752', '3355182ef981952e841618c19103ef09', '8c67b76032d571a8d7eca8796ed11752', '709a3600dc12d686d1c8f691a0af1e19', 'f918da384abe3dbfb19a02f888cbf3b1', 'f918da384abe3dbfb19a02f888cbf3b1', '8c67b76032d571a8d7eca8796ed11752', '709a3600dc12d686d1c8f691a0af1e19', '4c3cff428b26be2b1464a3c9ee78c7cf', '392e69c90b63b832ef1b1489027c9c7f', 'f918da384abe3dbfb19a02f888cbf3b1', '392e69c90b63b832ef1b1489027c9c7f', '392e69c90b63b832ef1b1489027c9c7f', '3355182ef981952e841618c19103ef09', 'f918da384abe3dbfb19a02f888cbf3b1', '8c67b76032d571a8d7eca8796ed11752', '0c9aa2cd6791f3c44ce75bb46fb0b625', '4c3cff428b26be2b1464a3c9ee78c7cf', '0c9aa2cd6791f3c44ce75bb46fb0b625', '4c3cff428b26be2b1464a3c9ee78c7cf', '709a3600dc12d686d1c8f691a0af1e19', '3355182ef981952e841618c19103ef09', '8c67b76032d571a8d7eca8796ed11752', '0c9aa2cd6791f3c44ce75bb46fb0b625', '4c3cff428b26be2b1464a3c9ee78c7cf', '709a3600dc12d686d1c8f691a0af1e19', '709a3600dc12d686d1c8f691a0af1e19', '582dcbc047b264a41a011f56f86574ba', '4c3cff428b26be2b1464a3c9ee78c7cf', '8c67b76032d571a8d7eca8796ed11752', '0c9aa2cd6791f3c44ce75bb46fb0b625', '709a3600dc12d686d1c8f691a0af1e19', '582dcbc047b264a41a011f56f86574ba', '8c67b76032d571a8d7eca8796ed11752', '4c3cff428b26be2b1464a3c9ee78c7cf', '709a3600dc12d686d1c8f691a0af1e19', '3355182ef981952e841618c19103ef09', '709a3600dc12d686d1c8f691a0af1e19', '3355182ef981952e841618c19103ef09', '392e69c90b63b832ef1b1489027c9c7f', '0c9aa2cd6791f3c44ce75bb46fb0b625', 'f918da384abe3dbfb19a02f888cbf3b1', '4c3cff428b26be2b1464a3c9ee78c7cf', '582dcbc047b264a41a011f56f86574ba', 'f918da384abe3dbfb19a02f888cbf3b1', '392e69c90b63b832ef1b1489027c9c7f', '4c3cff428b26be2b1464a3c9ee78c7cf', '3355182ef981952e841618c19103ef09', '4c3cff428b26be2b1464a3c9ee78c7cf', '709a3600dc12d686d1c8f691a0af1e19', '3355182ef981952e841618c19103ef09', '0c9aa2cd6791f3c44ce75bb46fb0b625', '0c9aa2cd6791f3c44ce75bb46fb0b625', '4c3cff428b26be2b1464a3c9ee78c7cf', '8c67b76032d571a8d7eca8796ed11752', '582dcbc047b264a41a011f56f86574ba', '8c67b76032d571a8d7eca8796ed11752', 'f918da384abe3dbfb19a02f888cbf3b1', 'f918da384abe3dbfb19a02f888cbf3b1', '4c3cff428b26be2b1464a3c9ee78c7cf', '8c67b76032d571a8d7eca8796ed11752', '582dcbc047b264a41a011f56f86574ba', '3355182ef981952e841618c19103ef09', '4c3cff428b26be2b1464a3c9ee78c7cf', '582dcbc047b264a41a011f56f86574ba', '392e69c90b63b832ef1b1489027c9c7f', 'f918da384abe3dbfb19a02f888cbf3b1', 'f918da384abe3dbfb19a02f888cbf3b1', '582dcbc047b264a41a011f56f86574ba', '4c3cff428b26be2b1464a3c9ee78c7cf', '0c9aa2cd6791f3c44ce75bb46fb0b625', '709a3600dc12d686d1c8f691a0af1e19', 'f918da384abe3dbfb19a02f888cbf3b1', '4c3cff428b26be2b1464a3c9ee78c7cf', '392e69c90b63b832ef1b1489027c9c7f', '3355182ef981952e841618c19103ef09', '3355182ef981952e841618c19103ef09', '8c67b76032d571a8d7eca8796ed11752', '582dcbc047b264a41a011f56f86574ba', '8c67b76032d571a8d7eca8796ed11752', '709a3600dc12d686d1c8f691a0af1e19', '582dcbc047b264a41a011f56f86574ba', '582dcbc047b264a41a011f56f86574ba', '3355182ef981952e841618c19103ef09', '392e69c90b63b832ef1b1489027c9c7f', '4c3cff428b26be2b1464a3c9ee78c7cf', 'f918da384abe3dbfb19a02f888cbf3b1', '582dcbc047b264a41a011f56f86574ba', '3355182ef981952e841618c19103ef09', '4c3cff428b26be2b1464a3c9ee78c7cf', '392e69c90b63b832ef1b1489027c9c7f', '392e69c90b63b832ef1b1489027c9c7f', 'f918da384abe3dbfb19a02f888cbf3b1', '0c9aa2cd6791f3c44ce75bb46fb0b625', '709a3600dc12d686d1c8f691a0af1e19', 'f918da384abe3dbfb19a02f888cbf3b1', '392e69c90b63b832ef1b1489027c9c7f', '392e69c90b63b832ef1b1489027c9c7f', '0c9aa2cd6791f3c44ce75bb46fb0b625', '0c9aa2cd6791f3c44ce75bb46fb0b625', 'f918da384abe3dbfb19a02f888cbf3b1', '3355182ef981952e841618c19103ef09', '709a3600dc12d686d1c8f691a0af1e19', '709a3600dc12d686d1c8f691a0af1e19', 'f918da384abe3dbfb19a02f888cbf3b1', '582dcbc047b264a41a011f56f86574ba', 'f918da384abe3dbfb19a02f888cbf3b1', '0c9aa2cd6791f3c44ce75bb46fb0b625', '4c3cff428b26be2b1464a3c9ee78c7cf', '8c67b76032d571a8d7eca8796ed11752', '582dcbc047b264a41a011f56f86574ba', '582dcbc047b264a41a011f56f86574ba', '709a3600dc12d686d1c8f691a0af1e19', 'f918da384abe3dbfb19a02f888cbf3b1', '3355182ef981952e841618c19103ef09', '4c3cff428b26be2b1464a3c9ee78c7cf', '3355182ef981952e841618c19103ef09', '4c3cff428b26be2b1464a3c9ee78c7cf', '3355182ef981952e841618c19103ef09', '8c67b76032d571a8d7eca8796ed11752', '4c3cff428b26be2b1464a3c9ee78c7cf', '4c3cff428b26be2b1464a3c9ee78c7cf', '3355182ef981952e841618c19103ef09', '392e69c90b63b832ef1b1489027c9c7f', '582dcbc047b264a41a011f56f86574ba', '3355182ef981952e841618c19103ef09', '709a3600dc12d686d1c8f691a0af1e19', '392e69c90b63b832ef1b1489027c9c7f', '3355182ef981952e841618c19103ef09', '582dcbc047b264a41a011f56f86574ba', '8c67b76032d571a8d7eca8796ed11752', '392e69c90b63b832ef1b1489027c9c7f', '8c67b76032d571a8d7eca8796ed11752', '582dcbc047b264a41a011f56f86574ba', '709a3600dc12d686d1c8f691a0af1e19', '8c67b76032d571a8d7eca8796ed11752', '709a3600dc12d686d1c8f691a0af1e19', '4c3cff428b26be2b1464a3c9ee78c7cf', '3355182ef981952e841618c19103ef09', 'f918da384abe3dbfb19a02f888cbf3b1', '392e69c90b63b832ef1b1489027c9c7f', '4c3cff428b26be2b1464a3c9ee78c7cf', '0c9aa2cd6791f3c44ce75bb46fb0b625', '4c3cff428b26be2b1464a3c9ee78c7cf', '0c9aa2cd6791f3c44ce75bb46fb0b625', '8c67b76032d571a8d7eca8796ed11752', 'f918da384abe3dbfb19a02f888cbf3b1', '582dcbc047b264a41a011f56f86574ba', '8c67b76032d571a8d7eca8796ed11752', '709a3600dc12d686d1c8f691a0af1e19', '0c9aa2cd6791f3c44ce75bb46fb0b625', '392e69c90b63b832ef1b1489027c9c7f', '3355182ef981952e841618c19103ef09', 'f918da384abe3dbfb19a02f888cbf3b1', '0c9aa2cd6791f3c44ce75bb46fb0b625', '8c67b76032d571a8d7eca8796ed11752', '392e69c90b63b832ef1b1489027c9c7f', '8c67b76032d571a8d7eca8796ed11752', '4c3cff428b26be2b1464a3c9ee78c7cf', '392e69c90b63b832ef1b1489027c9c7f', 'f918da384abe3dbfb19a02f888cbf3b1', '8c67b76032d571a8d7eca8796ed11752', '0c9aa2cd6791f3c44ce75bb46fb0b625', '0c9aa2cd6791f3c44ce75bb46fb0b625', '0c9aa2cd6791f3c44ce75bb46fb0b625', '709a3600dc12d686d1c8f691a0af1e19', '3355182ef981952e841618c19103ef09', '8c67b76032d571a8d7eca8796ed11752', '4c3cff428b26be2b1464a3c9ee78c7cf', '392e69c90b63b832ef1b1489027c9c7f', 'f918da384abe3dbfb19a02f888cbf3b1', '392e69c90b63b832ef1b1489027c9c7f', '3355182ef981952e841618c19103ef09', '582dcbc047b264a41a011f56f86574ba', 'f918da384abe3dbfb19a02f888cbf3b1', '4c3cff428b26be2b1464a3c9ee78c7cf', '0c9aa2cd6791f3c44ce75bb46fb0b625', '3355182ef981952e841618c19103ef09', '392e69c90b63b832ef1b1489027c9c7f', '392e69c90b63b832ef1b1489027c9c7f']\n"
          ]
        }
      ]
    },
    {
      "cell_type": "code",
      "source": [
        " import pandas as pd\n",
        " labels_int=pd.factorize(labels_str)[0]"
      ],
      "metadata": {
        "id": "cpPCPSgKyjoO"
      },
      "execution_count": 122,
      "outputs": []
    },
    {
      "cell_type": "code",
      "source": [
        "print(labels_int)"
      ],
      "metadata": {
        "colab": {
          "base_uri": "https://localhost:8080/"
        },
        "id": "wNOU_z954lIO",
        "outputId": "ed124669-b800-49de-c226-619b68fdc43c"
      },
      "execution_count": 123,
      "outputs": [
        {
          "output_type": "stream",
          "name": "stdout",
          "text": [
            "[0 0 1 ... 3 6 6]\n"
          ]
        }
      ]
    },
    {
      "cell_type": "code",
      "source": [
        "print(type(labels_int))"
      ],
      "metadata": {
        "colab": {
          "base_uri": "https://localhost:8080/"
        },
        "id": "FDmrgzbA5Exl",
        "outputId": "7c8602ce-ead6-452a-d30f-7f6a18036c56"
      },
      "execution_count": 121,
      "outputs": [
        {
          "output_type": "stream",
          "name": "stdout",
          "text": [
            "<class 'numpy.ndarray'>\n"
          ]
        }
      ]
    },
    {
      "cell_type": "markdown",
      "metadata": {
        "id": "HIuV5dsmPuEh"
      },
      "source": [
        "# Install infercode model "
      ]
    },
    {
      "cell_type": "code",
      "execution_count": null,
      "metadata": {
        "id": "N2OgVHgjyfX-"
      },
      "outputs": [],
      "source": [
        "!pip3 install infercode"
      ]
    },
    {
      "cell_type": "code",
      "execution_count": 13,
      "metadata": {
        "id": "i0fSv_Z9E8PI",
        "colab": {
          "base_uri": "https://localhost:8080/"
        },
        "outputId": "d8bde13d-32d1-4d54-a914-8007d8e852fb"
      },
      "outputs": [
        {
          "output_type": "stream",
          "name": "stdout",
          "text": [
            "Looking in indexes: https://pypi.org/simple, https://us-python.pkg.dev/colab-wheels/public/simple/\n",
            "Requirement already satisfied: tree_sitter_parsers in /usr/local/lib/python3.7/dist-packages (0.0.7)\n",
            "Requirement already satisfied: tree-sitter>=0.19.0 in /usr/local/lib/python3.7/dist-packages (from tree_sitter_parsers) (0.20.0)\n"
          ]
        }
      ],
      "source": [
        "!pip install tree_sitter_parsers"
      ]
    },
    {
      "cell_type": "code",
      "execution_count": 14,
      "metadata": {
        "id": "Y-20JP-T09sj"
      },
      "outputs": [],
      "source": [
        "import infercode"
      ]
    },
    {
      "cell_type": "code",
      "execution_count": 15,
      "metadata": {
        "id": "rowKdSFbExzp",
        "colab": {
          "base_uri": "https://localhost:8080/"
        },
        "outputId": "bde554e3-5e65-4a7d-c443-027180c48ed5"
      },
      "outputs": [
        {
          "output_type": "stream",
          "name": "stderr",
          "text": [
            "Linux.zip: 13.6MB [00:04, 3.40MB/s]\n"
          ]
        }
      ],
      "source": [
        "import tree_sitter_parsers"
      ]
    },
    {
      "cell_type": "markdown",
      "metadata": {
        "id": "IMXakApeQX4D"
      },
      "source": [
        "# Generate code vectors for NC-1014 dataset"
      ]
    },
    {
      "cell_type": "code",
      "execution_count": 16,
      "metadata": {
        "id": "QQ5qh_WBRhhl"
      },
      "outputs": [],
      "source": [
        "!mkdir NewCaledonie-1014-code-embeddings"
      ]
    },
    {
      "cell_type": "code",
      "execution_count": 17,
      "metadata": {
        "id": "8Bq5GDyVTQiC"
      },
      "outputs": [],
      "source": [
        "def embed_a_program(a,b):\n",
        "  ! infercode $a $b"
      ]
    },
    {
      "cell_type": "markdown",
      "source": [
        "Test Infercode model"
      ],
      "metadata": {
        "id": "GqeIMSh-z3Nm"
      }
    },
    {
      "cell_type": "code",
      "execution_count": 28,
      "metadata": {
        "id": "SfFq6TOXTmil",
        "colab": {
          "base_uri": "https://localhost:8080/"
        },
        "outputId": "582cf623-73fd-4852-f2fe-e1c7eff18210"
      },
      "outputs": [
        {
          "output_type": "stream",
          "name": "stdout",
          "text": [
            "(1, 100)\n",
            "[[ 2.02002466e-01  1.28228712e+00 -1.93912745e-01 -3.78979027e-01\n",
            "  -5.67200899e-01 -8.66969407e-01 -1.09204423e+00 -3.78946543e-01\n",
            "  -2.09201425e-01 -6.60348451e-04 -5.72371364e-01 -1.08207047e+00\n",
            "   2.72572398e-01 -3.14952970e-01 -5.97043216e-01  3.63065600e-01\n",
            "  -3.62472206e-01  1.82956839e+00 -1.92559570e-01  4.67340738e-01\n",
            "   1.93789947e+00 -7.00357378e-01 -6.09102726e-01 -5.59748530e-01\n",
            "   1.07472146e+00 -6.40701354e-01  4.18991655e-01  8.58264640e-02\n",
            "  -2.98370808e-01 -8.60714674e-01  6.10979974e-01  1.19287860e+00\n",
            "  -2.13638827e-01 -6.37158573e-01 -4.84457225e-01 -1.09965466e-01\n",
            "   6.41258359e-01  5.99250972e-01 -9.64965761e-01 -7.45931804e-01\n",
            "  -4.97603059e-01 -1.64164886e-01 -5.05334318e-01  2.50157189e+00\n",
            "   6.51984870e-01  2.85216033e-01 -3.09635341e-01  7.95531869e-01\n",
            "  -1.32507965e-01  3.88888925e-01  1.53403473e+00  1.14341867e+00\n",
            "  -3.56151462e-01 -4.14001554e-01 -8.91453028e-02 -3.20392698e-01\n",
            "  -7.11687803e-01  5.71609676e-01 -3.59354109e-01 -2.58432120e-01\n",
            "  -2.76837982e-02 -2.31603742e-01 -3.12342316e-01 -7.13250518e-01\n",
            "  -4.72043693e-01 -4.75562662e-01 -8.47831547e-01 -8.03896904e-01\n",
            "  -4.82866764e-01 -5.42707801e-01  9.79425479e-03 -8.91430676e-01\n",
            "  -5.28388143e-01  4.36736673e-01  4.33300942e-01 -2.70154506e-01\n",
            "  -4.11940247e-01 -3.69649023e-01 -4.34038252e-01  1.76515162e-01\n",
            "   1.52973637e-01 -2.94771880e-01 -3.19781989e-01 -6.68823957e-01\n",
            "  -6.55691564e-01 -9.56624568e-01 -4.89711851e-01  2.46028528e-01\n",
            "   4.48963314e-01  4.25692499e-01 -5.75871587e-01  1.39932737e-01\n",
            "  -7.06515238e-02  6.86730206e-01  3.45919579e-01 -4.34603363e-01\n",
            "  -2.69666426e-02  4.80952948e-01 -5.16119778e-01 -2.47738317e-01]]\n"
          ]
        }
      ],
      "source": [
        "input_filepath_value = \"/content/IsPrime.py\"\n",
        "output_filepath_value = \"/content/IsPrime_vector.txt\"\n",
        "embed_a_program(input_filepath_value, output_filepath_value)"
      ]
    },
    {
      "cell_type": "markdown",
      "source": [
        "Generate code embedding for the NC1014 dataset"
      ],
      "metadata": {
        "id": "AWwKtqx00Eji"
      }
    },
    {
      "cell_type": "code",
      "execution_count": null,
      "metadata": {
        "id": "T0R4EFrpQWue"
      },
      "outputs": [],
      "source": [
        "#for i in range(1,len(NC1014)+1): \n",
        "for i in range(1,10): \n",
        "  input_filepath_value = \"NewCaledonie-1014-python-files/program_\"+str(i)+\".py\"\n",
        "  output_filepath_value = \"NewCaledonie-1014-code-embeddings/program_code_embedding_\"+str(i)+\".txt\"\n",
        "  code_vector=embed_a_program(input_filepath_value, output_filepath_value)"
      ]
    },
    {
      "cell_type": "code",
      "source": [
        "!zip -r /content/NewCaledonie-1014-python-files.zip /content/NewCaledonie-1014-python-files/"
      ],
      "metadata": {
        "id": "v_bk19BoNvFi"
      },
      "execution_count": null,
      "outputs": []
    },
    {
      "cell_type": "code",
      "source": [
        "!zip -r /content/NewCaledonie-1014-code-embeddings.zip /content/NewCaledonie-1014-code-embeddings/"
      ],
      "metadata": {
        "id": "gisf6Zz8Nvqs"
      },
      "execution_count": null,
      "outputs": []
    },
    {
      "cell_type": "markdown",
      "source": [
        "# Classification programs task"
      ],
      "metadata": {
        "id": "wtISrjv7Q51v"
      }
    },
    {
      "cell_type": "code",
      "source": [
        "!git clone https://github.com/ElchaabiMohamed/InferCode-FineTuning.git"
      ],
      "metadata": {
        "colab": {
          "base_uri": "https://localhost:8080/"
        },
        "id": "nX8VQTRwRFFq",
        "outputId": "514fdfc2-3026-4c54-c357-d464135005c5"
      },
      "execution_count": 1,
      "outputs": [
        {
          "output_type": "stream",
          "name": "stdout",
          "text": [
            "Cloning into 'InferCode-FineTuning'...\n",
            "remote: Enumerating objects: 739, done.\u001b[K\n",
            "remote: Counting objects: 100% (739/739), done.\u001b[K\n",
            "remote: Compressing objects: 100% (733/733), done.\u001b[K\n",
            "remote: Total 739 (delta 3), reused 724 (delta 1), pack-reused 0\u001b[K\n",
            "Receiving objects: 100% (739/739), 432.07 KiB | 9.19 MiB/s, done.\n",
            "Resolving deltas: 100% (3/3), done.\n"
          ]
        }
      ]
    },
    {
      "cell_type": "markdown",
      "source": [
        "Load Data from text files into one csv file"
      ],
      "metadata": {
        "id": "prhO1qJWUMPP"
      }
    },
    {
      "cell_type": "code",
      "source": [
        "len(labels_int)"
      ],
      "metadata": {
        "colab": {
          "base_uri": "https://localhost:8080/"
        },
        "id": "Sk-nIgoxH2Qx",
        "outputId": "3c195b90-79c5-4380-b3e4-2c7be0495351"
      },
      "execution_count": 170,
      "outputs": [
        {
          "output_type": "execute_result",
          "data": {
            "text/plain": [
              "1014"
            ]
          },
          "metadata": {},
          "execution_count": 170
        }
      ]
    },
    {
      "cell_type": "code",
      "source": [
        "import csv\n",
        "for i in range(1,len(NC1014)+1):\n",
        "  file = open(\"/content/InferCode-FineTuning/NewCaledonie-1014-code-embeddings/program_code_embedding_\"+str(i)+\".txt\", \"r\")\n",
        "  content = file.read()\n",
        "  t=content.replace(\"[[\",\"\")\n",
        "  t_1=t.replace(\"]]\",\"\")\n",
        "  arr_1=t_1.split()\n",
        "  for j in range(len(arr_1)) :\n",
        "    arr_1[j]=float(arr_1[j])\n",
        "  arr_1.append(labels_int[i-1])\n",
        "  with open('dataset.csv','a') as f:\n",
        "    writer = csv.writer(f,delimiter=',')\n",
        "    writer.writerow(arr_1)"
      ],
      "metadata": {
        "id": "zJFZ9gU6dilq"
      },
      "execution_count": 186,
      "outputs": []
    },
    {
      "cell_type": "code",
      "source": [
        "head = list()\n",
        "for i in range(1,101): head.append(\"X\"+str(i))\n",
        "head.append(\"program_class\")"
      ],
      "metadata": {
        "id": "89OWu2L9_vlA"
      },
      "execution_count": 187,
      "outputs": []
    },
    {
      "cell_type": "code",
      "source": [
        "print(head)"
      ],
      "metadata": {
        "colab": {
          "base_uri": "https://localhost:8080/"
        },
        "id": "M94-VO6WX7pD",
        "outputId": "a66558b9-25eb-43b6-9bb9-100ea892f8ba"
      },
      "execution_count": 203,
      "outputs": [
        {
          "output_type": "stream",
          "name": "stdout",
          "text": [
            "['X1', 'X2', 'X3', 'X4', 'X5', 'X6', 'X7', 'X8', 'X9', 'X10', 'X11', 'X12', 'X13', 'X14', 'X15', 'X16', 'X17', 'X18', 'X19', 'X20', 'X21', 'X22', 'X23', 'X24', 'X25', 'X26', 'X27', 'X28', 'X29', 'X30', 'X31', 'X32', 'X33', 'X34', 'X35', 'X36', 'X37', 'X38', 'X39', 'X40', 'X41', 'X42', 'X43', 'X44', 'X45', 'X46', 'X47', 'X48', 'X49', 'X50', 'X51', 'X52', 'X53', 'X54', 'X55', 'X56', 'X57', 'X58', 'X59', 'X60', 'X61', 'X62', 'X63', 'X64', 'X65', 'X66', 'X67', 'X68', 'X69', 'X70', 'X71', 'X72', 'X73', 'X74', 'X75', 'X76', 'X77', 'X78', 'X79', 'X80', 'X81', 'X82', 'X83', 'X84', 'X85', 'X86', 'X87', 'X88', 'X89', 'X90', 'X91', 'X92', 'X93', 'X94', 'X95', 'X96', 'X97', 'X98', 'X99', 'X100', 'program_class']\n"
          ]
        }
      ]
    },
    {
      "cell_type": "code",
      "source": [
        "df = pd.read_csv(\"dataset.csv\",header=None)\n",
        "df.head()"
      ],
      "metadata": {
        "colab": {
          "base_uri": "https://localhost:8080/",
          "height": 299
        },
        "id": "mr6rXkP7NtY_",
        "outputId": "6cf77e3e-daf0-48c4-a051-e06c47303a3c"
      },
      "execution_count": 189,
      "outputs": [
        {
          "output_type": "execute_result",
          "data": {
            "text/plain": [
              "        0         1         2         3         4         5         6    \\\n",
              "0  0.803361  0.891430  0.291782 -0.133472 -0.589370 -0.872625 -0.892155   \n",
              "1  0.809541  0.993028  0.178098 -0.012274 -0.622973 -0.899832 -0.894746   \n",
              "2  1.753063  0.347486  0.600966 -0.247631 -0.703262 -0.892621 -0.693802   \n",
              "3  1.615161  0.210182  0.444439 -0.347291 -0.698180 -0.904133 -0.665873   \n",
              "4  1.554907  0.497785 -0.150818 -0.303005 -0.852941 -1.178082 -0.813398   \n",
              "\n",
              "        7         8         9    ...       91        92        93        94   \\\n",
              "0 -0.455649 -0.114277 -0.204636  ...  0.227705 -0.156447  0.838078  0.167660   \n",
              "1 -0.441966 -0.168317 -0.112289  ...  0.246669 -0.117999  0.833008  0.116859   \n",
              "2 -0.506580 -0.259751 -0.209175  ...  0.347937 -0.291803  1.771800 -0.080223   \n",
              "3 -0.532533 -0.315836 -0.213514  ...  0.230893 -0.091521  2.176843 -0.154408   \n",
              "4 -0.660274 -0.226336 -0.265989  ... -0.256819 -0.568542  1.670732 -0.361402   \n",
              "\n",
              "        95        96        97        98        99   100  \n",
              "0 -0.340320  0.084975  0.781900 -0.007967 -0.350443    0  \n",
              "1 -0.341445  0.200918  0.728100  0.058798 -0.332833    0  \n",
              "2 -0.342099 -0.050913  1.220905  0.617236 -0.546766    1  \n",
              "3 -0.326991 -0.066966  0.934388  0.912971 -0.573364    1  \n",
              "4 -0.517083 -0.121676  0.675599 -0.297152 -0.500650    2  \n",
              "\n",
              "[5 rows x 101 columns]"
            ],
            "text/html": [
              "\n",
              "  <div id=\"df-bade7929-2980-4ec6-b4bc-6e9661a0f79d\">\n",
              "    <div class=\"colab-df-container\">\n",
              "      <div>\n",
              "<style scoped>\n",
              "    .dataframe tbody tr th:only-of-type {\n",
              "        vertical-align: middle;\n",
              "    }\n",
              "\n",
              "    .dataframe tbody tr th {\n",
              "        vertical-align: top;\n",
              "    }\n",
              "\n",
              "    .dataframe thead th {\n",
              "        text-align: right;\n",
              "    }\n",
              "</style>\n",
              "<table border=\"1\" class=\"dataframe\">\n",
              "  <thead>\n",
              "    <tr style=\"text-align: right;\">\n",
              "      <th></th>\n",
              "      <th>0</th>\n",
              "      <th>1</th>\n",
              "      <th>2</th>\n",
              "      <th>3</th>\n",
              "      <th>4</th>\n",
              "      <th>5</th>\n",
              "      <th>6</th>\n",
              "      <th>7</th>\n",
              "      <th>8</th>\n",
              "      <th>9</th>\n",
              "      <th>...</th>\n",
              "      <th>91</th>\n",
              "      <th>92</th>\n",
              "      <th>93</th>\n",
              "      <th>94</th>\n",
              "      <th>95</th>\n",
              "      <th>96</th>\n",
              "      <th>97</th>\n",
              "      <th>98</th>\n",
              "      <th>99</th>\n",
              "      <th>100</th>\n",
              "    </tr>\n",
              "  </thead>\n",
              "  <tbody>\n",
              "    <tr>\n",
              "      <th>0</th>\n",
              "      <td>0.803361</td>\n",
              "      <td>0.891430</td>\n",
              "      <td>0.291782</td>\n",
              "      <td>-0.133472</td>\n",
              "      <td>-0.589370</td>\n",
              "      <td>-0.872625</td>\n",
              "      <td>-0.892155</td>\n",
              "      <td>-0.455649</td>\n",
              "      <td>-0.114277</td>\n",
              "      <td>-0.204636</td>\n",
              "      <td>...</td>\n",
              "      <td>0.227705</td>\n",
              "      <td>-0.156447</td>\n",
              "      <td>0.838078</td>\n",
              "      <td>0.167660</td>\n",
              "      <td>-0.340320</td>\n",
              "      <td>0.084975</td>\n",
              "      <td>0.781900</td>\n",
              "      <td>-0.007967</td>\n",
              "      <td>-0.350443</td>\n",
              "      <td>0</td>\n",
              "    </tr>\n",
              "    <tr>\n",
              "      <th>1</th>\n",
              "      <td>0.809541</td>\n",
              "      <td>0.993028</td>\n",
              "      <td>0.178098</td>\n",
              "      <td>-0.012274</td>\n",
              "      <td>-0.622973</td>\n",
              "      <td>-0.899832</td>\n",
              "      <td>-0.894746</td>\n",
              "      <td>-0.441966</td>\n",
              "      <td>-0.168317</td>\n",
              "      <td>-0.112289</td>\n",
              "      <td>...</td>\n",
              "      <td>0.246669</td>\n",
              "      <td>-0.117999</td>\n",
              "      <td>0.833008</td>\n",
              "      <td>0.116859</td>\n",
              "      <td>-0.341445</td>\n",
              "      <td>0.200918</td>\n",
              "      <td>0.728100</td>\n",
              "      <td>0.058798</td>\n",
              "      <td>-0.332833</td>\n",
              "      <td>0</td>\n",
              "    </tr>\n",
              "    <tr>\n",
              "      <th>2</th>\n",
              "      <td>1.753063</td>\n",
              "      <td>0.347486</td>\n",
              "      <td>0.600966</td>\n",
              "      <td>-0.247631</td>\n",
              "      <td>-0.703262</td>\n",
              "      <td>-0.892621</td>\n",
              "      <td>-0.693802</td>\n",
              "      <td>-0.506580</td>\n",
              "      <td>-0.259751</td>\n",
              "      <td>-0.209175</td>\n",
              "      <td>...</td>\n",
              "      <td>0.347937</td>\n",
              "      <td>-0.291803</td>\n",
              "      <td>1.771800</td>\n",
              "      <td>-0.080223</td>\n",
              "      <td>-0.342099</td>\n",
              "      <td>-0.050913</td>\n",
              "      <td>1.220905</td>\n",
              "      <td>0.617236</td>\n",
              "      <td>-0.546766</td>\n",
              "      <td>1</td>\n",
              "    </tr>\n",
              "    <tr>\n",
              "      <th>3</th>\n",
              "      <td>1.615161</td>\n",
              "      <td>0.210182</td>\n",
              "      <td>0.444439</td>\n",
              "      <td>-0.347291</td>\n",
              "      <td>-0.698180</td>\n",
              "      <td>-0.904133</td>\n",
              "      <td>-0.665873</td>\n",
              "      <td>-0.532533</td>\n",
              "      <td>-0.315836</td>\n",
              "      <td>-0.213514</td>\n",
              "      <td>...</td>\n",
              "      <td>0.230893</td>\n",
              "      <td>-0.091521</td>\n",
              "      <td>2.176843</td>\n",
              "      <td>-0.154408</td>\n",
              "      <td>-0.326991</td>\n",
              "      <td>-0.066966</td>\n",
              "      <td>0.934388</td>\n",
              "      <td>0.912971</td>\n",
              "      <td>-0.573364</td>\n",
              "      <td>1</td>\n",
              "    </tr>\n",
              "    <tr>\n",
              "      <th>4</th>\n",
              "      <td>1.554907</td>\n",
              "      <td>0.497785</td>\n",
              "      <td>-0.150818</td>\n",
              "      <td>-0.303005</td>\n",
              "      <td>-0.852941</td>\n",
              "      <td>-1.178082</td>\n",
              "      <td>-0.813398</td>\n",
              "      <td>-0.660274</td>\n",
              "      <td>-0.226336</td>\n",
              "      <td>-0.265989</td>\n",
              "      <td>...</td>\n",
              "      <td>-0.256819</td>\n",
              "      <td>-0.568542</td>\n",
              "      <td>1.670732</td>\n",
              "      <td>-0.361402</td>\n",
              "      <td>-0.517083</td>\n",
              "      <td>-0.121676</td>\n",
              "      <td>0.675599</td>\n",
              "      <td>-0.297152</td>\n",
              "      <td>-0.500650</td>\n",
              "      <td>2</td>\n",
              "    </tr>\n",
              "  </tbody>\n",
              "</table>\n",
              "<p>5 rows × 101 columns</p>\n",
              "</div>\n",
              "      <button class=\"colab-df-convert\" onclick=\"convertToInteractive('df-bade7929-2980-4ec6-b4bc-6e9661a0f79d')\"\n",
              "              title=\"Convert this dataframe to an interactive table.\"\n",
              "              style=\"display:none;\">\n",
              "        \n",
              "  <svg xmlns=\"http://www.w3.org/2000/svg\" height=\"24px\"viewBox=\"0 0 24 24\"\n",
              "       width=\"24px\">\n",
              "    <path d=\"M0 0h24v24H0V0z\" fill=\"none\"/>\n",
              "    <path d=\"M18.56 5.44l.94 2.06.94-2.06 2.06-.94-2.06-.94-.94-2.06-.94 2.06-2.06.94zm-11 1L8.5 8.5l.94-2.06 2.06-.94-2.06-.94L8.5 2.5l-.94 2.06-2.06.94zm10 10l.94 2.06.94-2.06 2.06-.94-2.06-.94-.94-2.06-.94 2.06-2.06.94z\"/><path d=\"M17.41 7.96l-1.37-1.37c-.4-.4-.92-.59-1.43-.59-.52 0-1.04.2-1.43.59L10.3 9.45l-7.72 7.72c-.78.78-.78 2.05 0 2.83L4 21.41c.39.39.9.59 1.41.59.51 0 1.02-.2 1.41-.59l7.78-7.78 2.81-2.81c.8-.78.8-2.07 0-2.86zM5.41 20L4 18.59l7.72-7.72 1.47 1.35L5.41 20z\"/>\n",
              "  </svg>\n",
              "      </button>\n",
              "      \n",
              "  <style>\n",
              "    .colab-df-container {\n",
              "      display:flex;\n",
              "      flex-wrap:wrap;\n",
              "      gap: 12px;\n",
              "    }\n",
              "\n",
              "    .colab-df-convert {\n",
              "      background-color: #E8F0FE;\n",
              "      border: none;\n",
              "      border-radius: 50%;\n",
              "      cursor: pointer;\n",
              "      display: none;\n",
              "      fill: #1967D2;\n",
              "      height: 32px;\n",
              "      padding: 0 0 0 0;\n",
              "      width: 32px;\n",
              "    }\n",
              "\n",
              "    .colab-df-convert:hover {\n",
              "      background-color: #E2EBFA;\n",
              "      box-shadow: 0px 1px 2px rgba(60, 64, 67, 0.3), 0px 1px 3px 1px rgba(60, 64, 67, 0.15);\n",
              "      fill: #174EA6;\n",
              "    }\n",
              "\n",
              "    [theme=dark] .colab-df-convert {\n",
              "      background-color: #3B4455;\n",
              "      fill: #D2E3FC;\n",
              "    }\n",
              "\n",
              "    [theme=dark] .colab-df-convert:hover {\n",
              "      background-color: #434B5C;\n",
              "      box-shadow: 0px 1px 3px 1px rgba(0, 0, 0, 0.15);\n",
              "      filter: drop-shadow(0px 1px 2px rgba(0, 0, 0, 0.3));\n",
              "      fill: #FFFFFF;\n",
              "    }\n",
              "  </style>\n",
              "\n",
              "      <script>\n",
              "        const buttonEl =\n",
              "          document.querySelector('#df-bade7929-2980-4ec6-b4bc-6e9661a0f79d button.colab-df-convert');\n",
              "        buttonEl.style.display =\n",
              "          google.colab.kernel.accessAllowed ? 'block' : 'none';\n",
              "\n",
              "        async function convertToInteractive(key) {\n",
              "          const element = document.querySelector('#df-bade7929-2980-4ec6-b4bc-6e9661a0f79d');\n",
              "          const dataTable =\n",
              "            await google.colab.kernel.invokeFunction('convertToInteractive',\n",
              "                                                     [key], {});\n",
              "          if (!dataTable) return;\n",
              "\n",
              "          const docLinkHtml = 'Like what you see? Visit the ' +\n",
              "            '<a target=\"_blank\" href=https://colab.research.google.com/notebooks/data_table.ipynb>data table notebook</a>'\n",
              "            + ' to learn more about interactive tables.';\n",
              "          element.innerHTML = '';\n",
              "          dataTable['output_type'] = 'display_data';\n",
              "          await google.colab.output.renderOutput(dataTable, element);\n",
              "          const docLink = document.createElement('div');\n",
              "          docLink.innerHTML = docLinkHtml;\n",
              "          element.appendChild(docLink);\n",
              "        }\n",
              "      </script>\n",
              "    </div>\n",
              "  </div>\n",
              "  "
            ]
          },
          "metadata": {},
          "execution_count": 189
        }
      ]
    },
    {
      "cell_type": "code",
      "source": [
        "df.columns=head\n",
        "df.head()"
      ],
      "metadata": {
        "colab": {
          "base_uri": "https://localhost:8080/",
          "height": 299
        },
        "id": "ZaE554NX_NxO",
        "outputId": "45a00cbd-adc6-4cb0-da46-68daeb10687c"
      },
      "execution_count": 190,
      "outputs": [
        {
          "output_type": "execute_result",
          "data": {
            "text/plain": [
              "         X1        X2        X3        X4        X5        X6        X7  \\\n",
              "0  0.803361  0.891430  0.291782 -0.133472 -0.589370 -0.872625 -0.892155   \n",
              "1  0.809541  0.993028  0.178098 -0.012274 -0.622973 -0.899832 -0.894746   \n",
              "2  1.753063  0.347486  0.600966 -0.247631 -0.703262 -0.892621 -0.693802   \n",
              "3  1.615161  0.210182  0.444439 -0.347291 -0.698180 -0.904133 -0.665873   \n",
              "4  1.554907  0.497785 -0.150818 -0.303005 -0.852941 -1.178082 -0.813398   \n",
              "\n",
              "         X8        X9       X10  ...       X92       X93       X94       X95  \\\n",
              "0 -0.455649 -0.114277 -0.204636  ...  0.227705 -0.156447  0.838078  0.167660   \n",
              "1 -0.441966 -0.168317 -0.112289  ...  0.246669 -0.117999  0.833008  0.116859   \n",
              "2 -0.506580 -0.259751 -0.209175  ...  0.347937 -0.291803  1.771800 -0.080223   \n",
              "3 -0.532533 -0.315836 -0.213514  ...  0.230893 -0.091521  2.176843 -0.154408   \n",
              "4 -0.660274 -0.226336 -0.265989  ... -0.256819 -0.568542  1.670732 -0.361402   \n",
              "\n",
              "        X96       X97       X98       X99      X100  program_class  \n",
              "0 -0.340320  0.084975  0.781900 -0.007967 -0.350443              0  \n",
              "1 -0.341445  0.200918  0.728100  0.058798 -0.332833              0  \n",
              "2 -0.342099 -0.050913  1.220905  0.617236 -0.546766              1  \n",
              "3 -0.326991 -0.066966  0.934388  0.912971 -0.573364              1  \n",
              "4 -0.517083 -0.121676  0.675599 -0.297152 -0.500650              2  \n",
              "\n",
              "[5 rows x 101 columns]"
            ],
            "text/html": [
              "\n",
              "  <div id=\"df-7268ce74-8fd6-4062-a615-dd041506dc03\">\n",
              "    <div class=\"colab-df-container\">\n",
              "      <div>\n",
              "<style scoped>\n",
              "    .dataframe tbody tr th:only-of-type {\n",
              "        vertical-align: middle;\n",
              "    }\n",
              "\n",
              "    .dataframe tbody tr th {\n",
              "        vertical-align: top;\n",
              "    }\n",
              "\n",
              "    .dataframe thead th {\n",
              "        text-align: right;\n",
              "    }\n",
              "</style>\n",
              "<table border=\"1\" class=\"dataframe\">\n",
              "  <thead>\n",
              "    <tr style=\"text-align: right;\">\n",
              "      <th></th>\n",
              "      <th>X1</th>\n",
              "      <th>X2</th>\n",
              "      <th>X3</th>\n",
              "      <th>X4</th>\n",
              "      <th>X5</th>\n",
              "      <th>X6</th>\n",
              "      <th>X7</th>\n",
              "      <th>X8</th>\n",
              "      <th>X9</th>\n",
              "      <th>X10</th>\n",
              "      <th>...</th>\n",
              "      <th>X92</th>\n",
              "      <th>X93</th>\n",
              "      <th>X94</th>\n",
              "      <th>X95</th>\n",
              "      <th>X96</th>\n",
              "      <th>X97</th>\n",
              "      <th>X98</th>\n",
              "      <th>X99</th>\n",
              "      <th>X100</th>\n",
              "      <th>program_class</th>\n",
              "    </tr>\n",
              "  </thead>\n",
              "  <tbody>\n",
              "    <tr>\n",
              "      <th>0</th>\n",
              "      <td>0.803361</td>\n",
              "      <td>0.891430</td>\n",
              "      <td>0.291782</td>\n",
              "      <td>-0.133472</td>\n",
              "      <td>-0.589370</td>\n",
              "      <td>-0.872625</td>\n",
              "      <td>-0.892155</td>\n",
              "      <td>-0.455649</td>\n",
              "      <td>-0.114277</td>\n",
              "      <td>-0.204636</td>\n",
              "      <td>...</td>\n",
              "      <td>0.227705</td>\n",
              "      <td>-0.156447</td>\n",
              "      <td>0.838078</td>\n",
              "      <td>0.167660</td>\n",
              "      <td>-0.340320</td>\n",
              "      <td>0.084975</td>\n",
              "      <td>0.781900</td>\n",
              "      <td>-0.007967</td>\n",
              "      <td>-0.350443</td>\n",
              "      <td>0</td>\n",
              "    </tr>\n",
              "    <tr>\n",
              "      <th>1</th>\n",
              "      <td>0.809541</td>\n",
              "      <td>0.993028</td>\n",
              "      <td>0.178098</td>\n",
              "      <td>-0.012274</td>\n",
              "      <td>-0.622973</td>\n",
              "      <td>-0.899832</td>\n",
              "      <td>-0.894746</td>\n",
              "      <td>-0.441966</td>\n",
              "      <td>-0.168317</td>\n",
              "      <td>-0.112289</td>\n",
              "      <td>...</td>\n",
              "      <td>0.246669</td>\n",
              "      <td>-0.117999</td>\n",
              "      <td>0.833008</td>\n",
              "      <td>0.116859</td>\n",
              "      <td>-0.341445</td>\n",
              "      <td>0.200918</td>\n",
              "      <td>0.728100</td>\n",
              "      <td>0.058798</td>\n",
              "      <td>-0.332833</td>\n",
              "      <td>0</td>\n",
              "    </tr>\n",
              "    <tr>\n",
              "      <th>2</th>\n",
              "      <td>1.753063</td>\n",
              "      <td>0.347486</td>\n",
              "      <td>0.600966</td>\n",
              "      <td>-0.247631</td>\n",
              "      <td>-0.703262</td>\n",
              "      <td>-0.892621</td>\n",
              "      <td>-0.693802</td>\n",
              "      <td>-0.506580</td>\n",
              "      <td>-0.259751</td>\n",
              "      <td>-0.209175</td>\n",
              "      <td>...</td>\n",
              "      <td>0.347937</td>\n",
              "      <td>-0.291803</td>\n",
              "      <td>1.771800</td>\n",
              "      <td>-0.080223</td>\n",
              "      <td>-0.342099</td>\n",
              "      <td>-0.050913</td>\n",
              "      <td>1.220905</td>\n",
              "      <td>0.617236</td>\n",
              "      <td>-0.546766</td>\n",
              "      <td>1</td>\n",
              "    </tr>\n",
              "    <tr>\n",
              "      <th>3</th>\n",
              "      <td>1.615161</td>\n",
              "      <td>0.210182</td>\n",
              "      <td>0.444439</td>\n",
              "      <td>-0.347291</td>\n",
              "      <td>-0.698180</td>\n",
              "      <td>-0.904133</td>\n",
              "      <td>-0.665873</td>\n",
              "      <td>-0.532533</td>\n",
              "      <td>-0.315836</td>\n",
              "      <td>-0.213514</td>\n",
              "      <td>...</td>\n",
              "      <td>0.230893</td>\n",
              "      <td>-0.091521</td>\n",
              "      <td>2.176843</td>\n",
              "      <td>-0.154408</td>\n",
              "      <td>-0.326991</td>\n",
              "      <td>-0.066966</td>\n",
              "      <td>0.934388</td>\n",
              "      <td>0.912971</td>\n",
              "      <td>-0.573364</td>\n",
              "      <td>1</td>\n",
              "    </tr>\n",
              "    <tr>\n",
              "      <th>4</th>\n",
              "      <td>1.554907</td>\n",
              "      <td>0.497785</td>\n",
              "      <td>-0.150818</td>\n",
              "      <td>-0.303005</td>\n",
              "      <td>-0.852941</td>\n",
              "      <td>-1.178082</td>\n",
              "      <td>-0.813398</td>\n",
              "      <td>-0.660274</td>\n",
              "      <td>-0.226336</td>\n",
              "      <td>-0.265989</td>\n",
              "      <td>...</td>\n",
              "      <td>-0.256819</td>\n",
              "      <td>-0.568542</td>\n",
              "      <td>1.670732</td>\n",
              "      <td>-0.361402</td>\n",
              "      <td>-0.517083</td>\n",
              "      <td>-0.121676</td>\n",
              "      <td>0.675599</td>\n",
              "      <td>-0.297152</td>\n",
              "      <td>-0.500650</td>\n",
              "      <td>2</td>\n",
              "    </tr>\n",
              "  </tbody>\n",
              "</table>\n",
              "<p>5 rows × 101 columns</p>\n",
              "</div>\n",
              "      <button class=\"colab-df-convert\" onclick=\"convertToInteractive('df-7268ce74-8fd6-4062-a615-dd041506dc03')\"\n",
              "              title=\"Convert this dataframe to an interactive table.\"\n",
              "              style=\"display:none;\">\n",
              "        \n",
              "  <svg xmlns=\"http://www.w3.org/2000/svg\" height=\"24px\"viewBox=\"0 0 24 24\"\n",
              "       width=\"24px\">\n",
              "    <path d=\"M0 0h24v24H0V0z\" fill=\"none\"/>\n",
              "    <path d=\"M18.56 5.44l.94 2.06.94-2.06 2.06-.94-2.06-.94-.94-2.06-.94 2.06-2.06.94zm-11 1L8.5 8.5l.94-2.06 2.06-.94-2.06-.94L8.5 2.5l-.94 2.06-2.06.94zm10 10l.94 2.06.94-2.06 2.06-.94-2.06-.94-.94-2.06-.94 2.06-2.06.94z\"/><path d=\"M17.41 7.96l-1.37-1.37c-.4-.4-.92-.59-1.43-.59-.52 0-1.04.2-1.43.59L10.3 9.45l-7.72 7.72c-.78.78-.78 2.05 0 2.83L4 21.41c.39.39.9.59 1.41.59.51 0 1.02-.2 1.41-.59l7.78-7.78 2.81-2.81c.8-.78.8-2.07 0-2.86zM5.41 20L4 18.59l7.72-7.72 1.47 1.35L5.41 20z\"/>\n",
              "  </svg>\n",
              "      </button>\n",
              "      \n",
              "  <style>\n",
              "    .colab-df-container {\n",
              "      display:flex;\n",
              "      flex-wrap:wrap;\n",
              "      gap: 12px;\n",
              "    }\n",
              "\n",
              "    .colab-df-convert {\n",
              "      background-color: #E8F0FE;\n",
              "      border: none;\n",
              "      border-radius: 50%;\n",
              "      cursor: pointer;\n",
              "      display: none;\n",
              "      fill: #1967D2;\n",
              "      height: 32px;\n",
              "      padding: 0 0 0 0;\n",
              "      width: 32px;\n",
              "    }\n",
              "\n",
              "    .colab-df-convert:hover {\n",
              "      background-color: #E2EBFA;\n",
              "      box-shadow: 0px 1px 2px rgba(60, 64, 67, 0.3), 0px 1px 3px 1px rgba(60, 64, 67, 0.15);\n",
              "      fill: #174EA6;\n",
              "    }\n",
              "\n",
              "    [theme=dark] .colab-df-convert {\n",
              "      background-color: #3B4455;\n",
              "      fill: #D2E3FC;\n",
              "    }\n",
              "\n",
              "    [theme=dark] .colab-df-convert:hover {\n",
              "      background-color: #434B5C;\n",
              "      box-shadow: 0px 1px 3px 1px rgba(0, 0, 0, 0.15);\n",
              "      filter: drop-shadow(0px 1px 2px rgba(0, 0, 0, 0.3));\n",
              "      fill: #FFFFFF;\n",
              "    }\n",
              "  </style>\n",
              "\n",
              "      <script>\n",
              "        const buttonEl =\n",
              "          document.querySelector('#df-7268ce74-8fd6-4062-a615-dd041506dc03 button.colab-df-convert');\n",
              "        buttonEl.style.display =\n",
              "          google.colab.kernel.accessAllowed ? 'block' : 'none';\n",
              "\n",
              "        async function convertToInteractive(key) {\n",
              "          const element = document.querySelector('#df-7268ce74-8fd6-4062-a615-dd041506dc03');\n",
              "          const dataTable =\n",
              "            await google.colab.kernel.invokeFunction('convertToInteractive',\n",
              "                                                     [key], {});\n",
              "          if (!dataTable) return;\n",
              "\n",
              "          const docLinkHtml = 'Like what you see? Visit the ' +\n",
              "            '<a target=\"_blank\" href=https://colab.research.google.com/notebooks/data_table.ipynb>data table notebook</a>'\n",
              "            + ' to learn more about interactive tables.';\n",
              "          element.innerHTML = '';\n",
              "          dataTable['output_type'] = 'display_data';\n",
              "          await google.colab.output.renderOutput(dataTable, element);\n",
              "          const docLink = document.createElement('div');\n",
              "          docLink.innerHTML = docLinkHtml;\n",
              "          element.appendChild(docLink);\n",
              "        }\n",
              "      </script>\n",
              "    </div>\n",
              "  </div>\n",
              "  "
            ]
          },
          "metadata": {},
          "execution_count": 190
        }
      ]
    },
    {
      "cell_type": "code",
      "source": [
        "df.to_csv(\"new_dataset.csv\",index=None)"
      ],
      "metadata": {
        "id": "ivRSdL1CODxU"
      },
      "execution_count": 191,
      "outputs": []
    },
    {
      "cell_type": "code",
      "source": [
        "df_1 = pd.read_csv(\"new_dataset.csv\")\n",
        "df_1.head()"
      ],
      "metadata": {
        "colab": {
          "base_uri": "https://localhost:8080/",
          "height": 299
        },
        "id": "9BaeOL7BLO73",
        "outputId": "4f5e4df2-c562-4c89-b2e7-6f840b51e4b5"
      },
      "execution_count": 192,
      "outputs": [
        {
          "output_type": "execute_result",
          "data": {
            "text/plain": [
              "         X1        X2        X3        X4        X5        X6        X7  \\\n",
              "0  0.803361  0.891430  0.291782 -0.133472 -0.589370 -0.872625 -0.892155   \n",
              "1  0.809541  0.993028  0.178098 -0.012274 -0.622973 -0.899832 -0.894746   \n",
              "2  1.753063  0.347486  0.600966 -0.247631 -0.703262 -0.892621 -0.693802   \n",
              "3  1.615161  0.210182  0.444439 -0.347291 -0.698180 -0.904133 -0.665873   \n",
              "4  1.554907  0.497785 -0.150818 -0.303005 -0.852941 -1.178082 -0.813398   \n",
              "\n",
              "         X8        X9       X10  ...       X92       X93       X94       X95  \\\n",
              "0 -0.455649 -0.114277 -0.204636  ...  0.227705 -0.156447  0.838078  0.167660   \n",
              "1 -0.441966 -0.168317 -0.112289  ...  0.246669 -0.117999  0.833008  0.116859   \n",
              "2 -0.506580 -0.259751 -0.209175  ...  0.347937 -0.291803  1.771800 -0.080223   \n",
              "3 -0.532533 -0.315836 -0.213514  ...  0.230893 -0.091521  2.176843 -0.154408   \n",
              "4 -0.660274 -0.226336 -0.265989  ... -0.256819 -0.568542  1.670732 -0.361402   \n",
              "\n",
              "        X96       X97       X98       X99      X100  program_class  \n",
              "0 -0.340320  0.084975  0.781900 -0.007967 -0.350443              0  \n",
              "1 -0.341445  0.200918  0.728100  0.058798 -0.332833              0  \n",
              "2 -0.342099 -0.050913  1.220905  0.617236 -0.546766              1  \n",
              "3 -0.326991 -0.066966  0.934388  0.912971 -0.573364              1  \n",
              "4 -0.517083 -0.121676  0.675599 -0.297152 -0.500650              2  \n",
              "\n",
              "[5 rows x 101 columns]"
            ],
            "text/html": [
              "\n",
              "  <div id=\"df-e509f51c-4991-4c40-89d6-1e2aeacc4a98\">\n",
              "    <div class=\"colab-df-container\">\n",
              "      <div>\n",
              "<style scoped>\n",
              "    .dataframe tbody tr th:only-of-type {\n",
              "        vertical-align: middle;\n",
              "    }\n",
              "\n",
              "    .dataframe tbody tr th {\n",
              "        vertical-align: top;\n",
              "    }\n",
              "\n",
              "    .dataframe thead th {\n",
              "        text-align: right;\n",
              "    }\n",
              "</style>\n",
              "<table border=\"1\" class=\"dataframe\">\n",
              "  <thead>\n",
              "    <tr style=\"text-align: right;\">\n",
              "      <th></th>\n",
              "      <th>X1</th>\n",
              "      <th>X2</th>\n",
              "      <th>X3</th>\n",
              "      <th>X4</th>\n",
              "      <th>X5</th>\n",
              "      <th>X6</th>\n",
              "      <th>X7</th>\n",
              "      <th>X8</th>\n",
              "      <th>X9</th>\n",
              "      <th>X10</th>\n",
              "      <th>...</th>\n",
              "      <th>X92</th>\n",
              "      <th>X93</th>\n",
              "      <th>X94</th>\n",
              "      <th>X95</th>\n",
              "      <th>X96</th>\n",
              "      <th>X97</th>\n",
              "      <th>X98</th>\n",
              "      <th>X99</th>\n",
              "      <th>X100</th>\n",
              "      <th>program_class</th>\n",
              "    </tr>\n",
              "  </thead>\n",
              "  <tbody>\n",
              "    <tr>\n",
              "      <th>0</th>\n",
              "      <td>0.803361</td>\n",
              "      <td>0.891430</td>\n",
              "      <td>0.291782</td>\n",
              "      <td>-0.133472</td>\n",
              "      <td>-0.589370</td>\n",
              "      <td>-0.872625</td>\n",
              "      <td>-0.892155</td>\n",
              "      <td>-0.455649</td>\n",
              "      <td>-0.114277</td>\n",
              "      <td>-0.204636</td>\n",
              "      <td>...</td>\n",
              "      <td>0.227705</td>\n",
              "      <td>-0.156447</td>\n",
              "      <td>0.838078</td>\n",
              "      <td>0.167660</td>\n",
              "      <td>-0.340320</td>\n",
              "      <td>0.084975</td>\n",
              "      <td>0.781900</td>\n",
              "      <td>-0.007967</td>\n",
              "      <td>-0.350443</td>\n",
              "      <td>0</td>\n",
              "    </tr>\n",
              "    <tr>\n",
              "      <th>1</th>\n",
              "      <td>0.809541</td>\n",
              "      <td>0.993028</td>\n",
              "      <td>0.178098</td>\n",
              "      <td>-0.012274</td>\n",
              "      <td>-0.622973</td>\n",
              "      <td>-0.899832</td>\n",
              "      <td>-0.894746</td>\n",
              "      <td>-0.441966</td>\n",
              "      <td>-0.168317</td>\n",
              "      <td>-0.112289</td>\n",
              "      <td>...</td>\n",
              "      <td>0.246669</td>\n",
              "      <td>-0.117999</td>\n",
              "      <td>0.833008</td>\n",
              "      <td>0.116859</td>\n",
              "      <td>-0.341445</td>\n",
              "      <td>0.200918</td>\n",
              "      <td>0.728100</td>\n",
              "      <td>0.058798</td>\n",
              "      <td>-0.332833</td>\n",
              "      <td>0</td>\n",
              "    </tr>\n",
              "    <tr>\n",
              "      <th>2</th>\n",
              "      <td>1.753063</td>\n",
              "      <td>0.347486</td>\n",
              "      <td>0.600966</td>\n",
              "      <td>-0.247631</td>\n",
              "      <td>-0.703262</td>\n",
              "      <td>-0.892621</td>\n",
              "      <td>-0.693802</td>\n",
              "      <td>-0.506580</td>\n",
              "      <td>-0.259751</td>\n",
              "      <td>-0.209175</td>\n",
              "      <td>...</td>\n",
              "      <td>0.347937</td>\n",
              "      <td>-0.291803</td>\n",
              "      <td>1.771800</td>\n",
              "      <td>-0.080223</td>\n",
              "      <td>-0.342099</td>\n",
              "      <td>-0.050913</td>\n",
              "      <td>1.220905</td>\n",
              "      <td>0.617236</td>\n",
              "      <td>-0.546766</td>\n",
              "      <td>1</td>\n",
              "    </tr>\n",
              "    <tr>\n",
              "      <th>3</th>\n",
              "      <td>1.615161</td>\n",
              "      <td>0.210182</td>\n",
              "      <td>0.444439</td>\n",
              "      <td>-0.347291</td>\n",
              "      <td>-0.698180</td>\n",
              "      <td>-0.904133</td>\n",
              "      <td>-0.665873</td>\n",
              "      <td>-0.532533</td>\n",
              "      <td>-0.315836</td>\n",
              "      <td>-0.213514</td>\n",
              "      <td>...</td>\n",
              "      <td>0.230893</td>\n",
              "      <td>-0.091521</td>\n",
              "      <td>2.176843</td>\n",
              "      <td>-0.154408</td>\n",
              "      <td>-0.326991</td>\n",
              "      <td>-0.066966</td>\n",
              "      <td>0.934388</td>\n",
              "      <td>0.912971</td>\n",
              "      <td>-0.573364</td>\n",
              "      <td>1</td>\n",
              "    </tr>\n",
              "    <tr>\n",
              "      <th>4</th>\n",
              "      <td>1.554907</td>\n",
              "      <td>0.497785</td>\n",
              "      <td>-0.150818</td>\n",
              "      <td>-0.303005</td>\n",
              "      <td>-0.852941</td>\n",
              "      <td>-1.178082</td>\n",
              "      <td>-0.813398</td>\n",
              "      <td>-0.660274</td>\n",
              "      <td>-0.226336</td>\n",
              "      <td>-0.265989</td>\n",
              "      <td>...</td>\n",
              "      <td>-0.256819</td>\n",
              "      <td>-0.568542</td>\n",
              "      <td>1.670732</td>\n",
              "      <td>-0.361402</td>\n",
              "      <td>-0.517083</td>\n",
              "      <td>-0.121676</td>\n",
              "      <td>0.675599</td>\n",
              "      <td>-0.297152</td>\n",
              "      <td>-0.500650</td>\n",
              "      <td>2</td>\n",
              "    </tr>\n",
              "  </tbody>\n",
              "</table>\n",
              "<p>5 rows × 101 columns</p>\n",
              "</div>\n",
              "      <button class=\"colab-df-convert\" onclick=\"convertToInteractive('df-e509f51c-4991-4c40-89d6-1e2aeacc4a98')\"\n",
              "              title=\"Convert this dataframe to an interactive table.\"\n",
              "              style=\"display:none;\">\n",
              "        \n",
              "  <svg xmlns=\"http://www.w3.org/2000/svg\" height=\"24px\"viewBox=\"0 0 24 24\"\n",
              "       width=\"24px\">\n",
              "    <path d=\"M0 0h24v24H0V0z\" fill=\"none\"/>\n",
              "    <path d=\"M18.56 5.44l.94 2.06.94-2.06 2.06-.94-2.06-.94-.94-2.06-.94 2.06-2.06.94zm-11 1L8.5 8.5l.94-2.06 2.06-.94-2.06-.94L8.5 2.5l-.94 2.06-2.06.94zm10 10l.94 2.06.94-2.06 2.06-.94-2.06-.94-.94-2.06-.94 2.06-2.06.94z\"/><path d=\"M17.41 7.96l-1.37-1.37c-.4-.4-.92-.59-1.43-.59-.52 0-1.04.2-1.43.59L10.3 9.45l-7.72 7.72c-.78.78-.78 2.05 0 2.83L4 21.41c.39.39.9.59 1.41.59.51 0 1.02-.2 1.41-.59l7.78-7.78 2.81-2.81c.8-.78.8-2.07 0-2.86zM5.41 20L4 18.59l7.72-7.72 1.47 1.35L5.41 20z\"/>\n",
              "  </svg>\n",
              "      </button>\n",
              "      \n",
              "  <style>\n",
              "    .colab-df-container {\n",
              "      display:flex;\n",
              "      flex-wrap:wrap;\n",
              "      gap: 12px;\n",
              "    }\n",
              "\n",
              "    .colab-df-convert {\n",
              "      background-color: #E8F0FE;\n",
              "      border: none;\n",
              "      border-radius: 50%;\n",
              "      cursor: pointer;\n",
              "      display: none;\n",
              "      fill: #1967D2;\n",
              "      height: 32px;\n",
              "      padding: 0 0 0 0;\n",
              "      width: 32px;\n",
              "    }\n",
              "\n",
              "    .colab-df-convert:hover {\n",
              "      background-color: #E2EBFA;\n",
              "      box-shadow: 0px 1px 2px rgba(60, 64, 67, 0.3), 0px 1px 3px 1px rgba(60, 64, 67, 0.15);\n",
              "      fill: #174EA6;\n",
              "    }\n",
              "\n",
              "    [theme=dark] .colab-df-convert {\n",
              "      background-color: #3B4455;\n",
              "      fill: #D2E3FC;\n",
              "    }\n",
              "\n",
              "    [theme=dark] .colab-df-convert:hover {\n",
              "      background-color: #434B5C;\n",
              "      box-shadow: 0px 1px 3px 1px rgba(0, 0, 0, 0.15);\n",
              "      filter: drop-shadow(0px 1px 2px rgba(0, 0, 0, 0.3));\n",
              "      fill: #FFFFFF;\n",
              "    }\n",
              "  </style>\n",
              "\n",
              "      <script>\n",
              "        const buttonEl =\n",
              "          document.querySelector('#df-e509f51c-4991-4c40-89d6-1e2aeacc4a98 button.colab-df-convert');\n",
              "        buttonEl.style.display =\n",
              "          google.colab.kernel.accessAllowed ? 'block' : 'none';\n",
              "\n",
              "        async function convertToInteractive(key) {\n",
              "          const element = document.querySelector('#df-e509f51c-4991-4c40-89d6-1e2aeacc4a98');\n",
              "          const dataTable =\n",
              "            await google.colab.kernel.invokeFunction('convertToInteractive',\n",
              "                                                     [key], {});\n",
              "          if (!dataTable) return;\n",
              "\n",
              "          const docLinkHtml = 'Like what you see? Visit the ' +\n",
              "            '<a target=\"_blank\" href=https://colab.research.google.com/notebooks/data_table.ipynb>data table notebook</a>'\n",
              "            + ' to learn more about interactive tables.';\n",
              "          element.innerHTML = '';\n",
              "          dataTable['output_type'] = 'display_data';\n",
              "          await google.colab.output.renderOutput(dataTable, element);\n",
              "          const docLink = document.createElement('div');\n",
              "          docLink.innerHTML = docLinkHtml;\n",
              "          element.appendChild(docLink);\n",
              "        }\n",
              "      </script>\n",
              "    </div>\n",
              "  </div>\n",
              "  "
            ]
          },
          "metadata": {},
          "execution_count": 192
        }
      ]
    },
    {
      "cell_type": "markdown",
      "source": [
        "Data Analysis"
      ],
      "metadata": {
        "id": "pwZWPSCaUry2"
      }
    },
    {
      "cell_type": "code",
      "source": [
        "# getting more information about the dataset\n",
        "df_1.info()"
      ],
      "metadata": {
        "colab": {
          "base_uri": "https://localhost:8080/"
        },
        "id": "zMVEvAvoJB0c",
        "outputId": "0a750636-cdf4-4328-f1f6-518363f6f8f2"
      },
      "execution_count": 193,
      "outputs": [
        {
          "output_type": "stream",
          "name": "stdout",
          "text": [
            "<class 'pandas.core.frame.DataFrame'>\n",
            "RangeIndex: 1014 entries, 0 to 1013\n",
            "Columns: 101 entries, X1 to program_class\n",
            "dtypes: float64(100), int64(1)\n",
            "memory usage: 800.2 KB\n"
          ]
        }
      ]
    },
    {
      "cell_type": "code",
      "source": [
        "# checking for missing values in each column\n",
        "df_1.isnull().sum()"
      ],
      "metadata": {
        "colab": {
          "base_uri": "https://localhost:8080/"
        },
        "id": "Rw4Y1dtWJGWk",
        "outputId": "5cf2f65d-5e7e-4433-8790-a680f5495359"
      },
      "execution_count": 196,
      "outputs": [
        {
          "output_type": "execute_result",
          "data": {
            "text/plain": [
              "X1               0\n",
              "X2               0\n",
              "X3               0\n",
              "X4               0\n",
              "X5               0\n",
              "                ..\n",
              "X97              0\n",
              "X98              0\n",
              "X99              0\n",
              "X100             0\n",
              "program_class    0\n",
              "Length: 101, dtype: int64"
            ]
          },
          "metadata": {},
          "execution_count": 196
        }
      ]
    },
    {
      "cell_type": "code",
      "source": [
        "# getting some statistical measures about the data\n",
        "df_1.describe()"
      ],
      "metadata": {
        "colab": {
          "base_uri": "https://localhost:8080/",
          "height": 394
        },
        "id": "1ZWf17GzQlYC",
        "outputId": "8201c4de-0c7a-445b-bf26-eef70118c654"
      },
      "execution_count": 197,
      "outputs": [
        {
          "output_type": "execute_result",
          "data": {
            "text/plain": [
              "                X1           X2           X3           X4           X5  \\\n",
              "count  1014.000000  1014.000000  1014.000000  1014.000000  1014.000000   \n",
              "mean      0.862161     0.963314     0.285553    -0.145812    -0.641856   \n",
              "std       0.297257     0.379117     0.351658     0.144218     0.071833   \n",
              "min       0.086910    -0.056908    -0.341828    -0.604977    -0.856757   \n",
              "25%       0.662800     0.724357    -0.053615    -0.275709    -0.686003   \n",
              "50%       0.803391     0.939778     0.353360    -0.127802    -0.628899   \n",
              "75%       0.979875     1.237244     0.577214    -0.053783    -0.596641   \n",
              "max       1.773057     1.816089     1.112162     0.493887    -0.373777   \n",
              "\n",
              "                X6           X7           X8           X9          X10  ...  \\\n",
              "count  1014.000000  1014.000000  1014.000000  1014.000000  1014.000000  ...   \n",
              "mean     -0.888312    -0.881965    -0.522384    -0.215122    -0.188685  ...   \n",
              "std       0.110237     0.179686     0.149280     0.116606     0.148204  ...   \n",
              "min      -1.316068    -1.469180    -1.099308    -0.597918    -0.432033  ...   \n",
              "25%      -0.914849    -0.973152    -0.612697    -0.298235    -0.311252  ...   \n",
              "50%      -0.864403    -0.840709    -0.459256    -0.197606    -0.210844  ...   \n",
              "75%      -0.820332    -0.766702    -0.423609    -0.115154    -0.068097  ...   \n",
              "max      -0.517380    -0.421702    -0.207884     0.103575     0.198444  ...   \n",
              "\n",
              "               X92          X93          X94          X95          X96  \\\n",
              "count  1014.000000  1014.000000  1014.000000  1014.000000  1014.000000   \n",
              "mean      0.313140    -0.150818     1.059468     0.091230    -0.381461   \n",
              "std       0.184477     0.241627     0.486506     0.188485     0.042879   \n",
              "min      -0.258813    -0.587555     0.004163    -0.452243    -0.529715   \n",
              "25%       0.222360    -0.242698     0.664822    -0.038893    -0.403997   \n",
              "50%       0.361863    -0.156802     1.013654     0.095021    -0.376075   \n",
              "75%       0.452494    -0.054557     1.531557     0.217416    -0.349821   \n",
              "max       0.708238     0.948891     2.239943     0.526648    -0.288307   \n",
              "\n",
              "               X97          X98          X99         X100  program_class  \n",
              "count  1014.000000  1014.000000  1014.000000  1014.000000    1014.000000  \n",
              "mean      0.104856     0.788657     0.152764    -0.457273       3.492110  \n",
              "std       0.175061     0.215145     0.313193     0.085233       2.297567  \n",
              "min      -0.204877     0.228242    -0.363048    -0.734594       0.000000  \n",
              "25%      -0.012864     0.639317    -0.076597    -0.523732       2.000000  \n",
              "50%       0.063991     0.801108     0.055731    -0.459674       3.000000  \n",
              "75%       0.193379     0.952444     0.348663    -0.402387       5.000000  \n",
              "max       0.687533     1.659908     1.047458    -0.022844       7.000000  \n",
              "\n",
              "[8 rows x 101 columns]"
            ],
            "text/html": [
              "\n",
              "  <div id=\"df-1cfaad1e-8233-460e-9640-45fd6ca16d29\">\n",
              "    <div class=\"colab-df-container\">\n",
              "      <div>\n",
              "<style scoped>\n",
              "    .dataframe tbody tr th:only-of-type {\n",
              "        vertical-align: middle;\n",
              "    }\n",
              "\n",
              "    .dataframe tbody tr th {\n",
              "        vertical-align: top;\n",
              "    }\n",
              "\n",
              "    .dataframe thead th {\n",
              "        text-align: right;\n",
              "    }\n",
              "</style>\n",
              "<table border=\"1\" class=\"dataframe\">\n",
              "  <thead>\n",
              "    <tr style=\"text-align: right;\">\n",
              "      <th></th>\n",
              "      <th>X1</th>\n",
              "      <th>X2</th>\n",
              "      <th>X3</th>\n",
              "      <th>X4</th>\n",
              "      <th>X5</th>\n",
              "      <th>X6</th>\n",
              "      <th>X7</th>\n",
              "      <th>X8</th>\n",
              "      <th>X9</th>\n",
              "      <th>X10</th>\n",
              "      <th>...</th>\n",
              "      <th>X92</th>\n",
              "      <th>X93</th>\n",
              "      <th>X94</th>\n",
              "      <th>X95</th>\n",
              "      <th>X96</th>\n",
              "      <th>X97</th>\n",
              "      <th>X98</th>\n",
              "      <th>X99</th>\n",
              "      <th>X100</th>\n",
              "      <th>program_class</th>\n",
              "    </tr>\n",
              "  </thead>\n",
              "  <tbody>\n",
              "    <tr>\n",
              "      <th>count</th>\n",
              "      <td>1014.000000</td>\n",
              "      <td>1014.000000</td>\n",
              "      <td>1014.000000</td>\n",
              "      <td>1014.000000</td>\n",
              "      <td>1014.000000</td>\n",
              "      <td>1014.000000</td>\n",
              "      <td>1014.000000</td>\n",
              "      <td>1014.000000</td>\n",
              "      <td>1014.000000</td>\n",
              "      <td>1014.000000</td>\n",
              "      <td>...</td>\n",
              "      <td>1014.000000</td>\n",
              "      <td>1014.000000</td>\n",
              "      <td>1014.000000</td>\n",
              "      <td>1014.000000</td>\n",
              "      <td>1014.000000</td>\n",
              "      <td>1014.000000</td>\n",
              "      <td>1014.000000</td>\n",
              "      <td>1014.000000</td>\n",
              "      <td>1014.000000</td>\n",
              "      <td>1014.000000</td>\n",
              "    </tr>\n",
              "    <tr>\n",
              "      <th>mean</th>\n",
              "      <td>0.862161</td>\n",
              "      <td>0.963314</td>\n",
              "      <td>0.285553</td>\n",
              "      <td>-0.145812</td>\n",
              "      <td>-0.641856</td>\n",
              "      <td>-0.888312</td>\n",
              "      <td>-0.881965</td>\n",
              "      <td>-0.522384</td>\n",
              "      <td>-0.215122</td>\n",
              "      <td>-0.188685</td>\n",
              "      <td>...</td>\n",
              "      <td>0.313140</td>\n",
              "      <td>-0.150818</td>\n",
              "      <td>1.059468</td>\n",
              "      <td>0.091230</td>\n",
              "      <td>-0.381461</td>\n",
              "      <td>0.104856</td>\n",
              "      <td>0.788657</td>\n",
              "      <td>0.152764</td>\n",
              "      <td>-0.457273</td>\n",
              "      <td>3.492110</td>\n",
              "    </tr>\n",
              "    <tr>\n",
              "      <th>std</th>\n",
              "      <td>0.297257</td>\n",
              "      <td>0.379117</td>\n",
              "      <td>0.351658</td>\n",
              "      <td>0.144218</td>\n",
              "      <td>0.071833</td>\n",
              "      <td>0.110237</td>\n",
              "      <td>0.179686</td>\n",
              "      <td>0.149280</td>\n",
              "      <td>0.116606</td>\n",
              "      <td>0.148204</td>\n",
              "      <td>...</td>\n",
              "      <td>0.184477</td>\n",
              "      <td>0.241627</td>\n",
              "      <td>0.486506</td>\n",
              "      <td>0.188485</td>\n",
              "      <td>0.042879</td>\n",
              "      <td>0.175061</td>\n",
              "      <td>0.215145</td>\n",
              "      <td>0.313193</td>\n",
              "      <td>0.085233</td>\n",
              "      <td>2.297567</td>\n",
              "    </tr>\n",
              "    <tr>\n",
              "      <th>min</th>\n",
              "      <td>0.086910</td>\n",
              "      <td>-0.056908</td>\n",
              "      <td>-0.341828</td>\n",
              "      <td>-0.604977</td>\n",
              "      <td>-0.856757</td>\n",
              "      <td>-1.316068</td>\n",
              "      <td>-1.469180</td>\n",
              "      <td>-1.099308</td>\n",
              "      <td>-0.597918</td>\n",
              "      <td>-0.432033</td>\n",
              "      <td>...</td>\n",
              "      <td>-0.258813</td>\n",
              "      <td>-0.587555</td>\n",
              "      <td>0.004163</td>\n",
              "      <td>-0.452243</td>\n",
              "      <td>-0.529715</td>\n",
              "      <td>-0.204877</td>\n",
              "      <td>0.228242</td>\n",
              "      <td>-0.363048</td>\n",
              "      <td>-0.734594</td>\n",
              "      <td>0.000000</td>\n",
              "    </tr>\n",
              "    <tr>\n",
              "      <th>25%</th>\n",
              "      <td>0.662800</td>\n",
              "      <td>0.724357</td>\n",
              "      <td>-0.053615</td>\n",
              "      <td>-0.275709</td>\n",
              "      <td>-0.686003</td>\n",
              "      <td>-0.914849</td>\n",
              "      <td>-0.973152</td>\n",
              "      <td>-0.612697</td>\n",
              "      <td>-0.298235</td>\n",
              "      <td>-0.311252</td>\n",
              "      <td>...</td>\n",
              "      <td>0.222360</td>\n",
              "      <td>-0.242698</td>\n",
              "      <td>0.664822</td>\n",
              "      <td>-0.038893</td>\n",
              "      <td>-0.403997</td>\n",
              "      <td>-0.012864</td>\n",
              "      <td>0.639317</td>\n",
              "      <td>-0.076597</td>\n",
              "      <td>-0.523732</td>\n",
              "      <td>2.000000</td>\n",
              "    </tr>\n",
              "    <tr>\n",
              "      <th>50%</th>\n",
              "      <td>0.803391</td>\n",
              "      <td>0.939778</td>\n",
              "      <td>0.353360</td>\n",
              "      <td>-0.127802</td>\n",
              "      <td>-0.628899</td>\n",
              "      <td>-0.864403</td>\n",
              "      <td>-0.840709</td>\n",
              "      <td>-0.459256</td>\n",
              "      <td>-0.197606</td>\n",
              "      <td>-0.210844</td>\n",
              "      <td>...</td>\n",
              "      <td>0.361863</td>\n",
              "      <td>-0.156802</td>\n",
              "      <td>1.013654</td>\n",
              "      <td>0.095021</td>\n",
              "      <td>-0.376075</td>\n",
              "      <td>0.063991</td>\n",
              "      <td>0.801108</td>\n",
              "      <td>0.055731</td>\n",
              "      <td>-0.459674</td>\n",
              "      <td>3.000000</td>\n",
              "    </tr>\n",
              "    <tr>\n",
              "      <th>75%</th>\n",
              "      <td>0.979875</td>\n",
              "      <td>1.237244</td>\n",
              "      <td>0.577214</td>\n",
              "      <td>-0.053783</td>\n",
              "      <td>-0.596641</td>\n",
              "      <td>-0.820332</td>\n",
              "      <td>-0.766702</td>\n",
              "      <td>-0.423609</td>\n",
              "      <td>-0.115154</td>\n",
              "      <td>-0.068097</td>\n",
              "      <td>...</td>\n",
              "      <td>0.452494</td>\n",
              "      <td>-0.054557</td>\n",
              "      <td>1.531557</td>\n",
              "      <td>0.217416</td>\n",
              "      <td>-0.349821</td>\n",
              "      <td>0.193379</td>\n",
              "      <td>0.952444</td>\n",
              "      <td>0.348663</td>\n",
              "      <td>-0.402387</td>\n",
              "      <td>5.000000</td>\n",
              "    </tr>\n",
              "    <tr>\n",
              "      <th>max</th>\n",
              "      <td>1.773057</td>\n",
              "      <td>1.816089</td>\n",
              "      <td>1.112162</td>\n",
              "      <td>0.493887</td>\n",
              "      <td>-0.373777</td>\n",
              "      <td>-0.517380</td>\n",
              "      <td>-0.421702</td>\n",
              "      <td>-0.207884</td>\n",
              "      <td>0.103575</td>\n",
              "      <td>0.198444</td>\n",
              "      <td>...</td>\n",
              "      <td>0.708238</td>\n",
              "      <td>0.948891</td>\n",
              "      <td>2.239943</td>\n",
              "      <td>0.526648</td>\n",
              "      <td>-0.288307</td>\n",
              "      <td>0.687533</td>\n",
              "      <td>1.659908</td>\n",
              "      <td>1.047458</td>\n",
              "      <td>-0.022844</td>\n",
              "      <td>7.000000</td>\n",
              "    </tr>\n",
              "  </tbody>\n",
              "</table>\n",
              "<p>8 rows × 101 columns</p>\n",
              "</div>\n",
              "      <button class=\"colab-df-convert\" onclick=\"convertToInteractive('df-1cfaad1e-8233-460e-9640-45fd6ca16d29')\"\n",
              "              title=\"Convert this dataframe to an interactive table.\"\n",
              "              style=\"display:none;\">\n",
              "        \n",
              "  <svg xmlns=\"http://www.w3.org/2000/svg\" height=\"24px\"viewBox=\"0 0 24 24\"\n",
              "       width=\"24px\">\n",
              "    <path d=\"M0 0h24v24H0V0z\" fill=\"none\"/>\n",
              "    <path d=\"M18.56 5.44l.94 2.06.94-2.06 2.06-.94-2.06-.94-.94-2.06-.94 2.06-2.06.94zm-11 1L8.5 8.5l.94-2.06 2.06-.94-2.06-.94L8.5 2.5l-.94 2.06-2.06.94zm10 10l.94 2.06.94-2.06 2.06-.94-2.06-.94-.94-2.06-.94 2.06-2.06.94z\"/><path d=\"M17.41 7.96l-1.37-1.37c-.4-.4-.92-.59-1.43-.59-.52 0-1.04.2-1.43.59L10.3 9.45l-7.72 7.72c-.78.78-.78 2.05 0 2.83L4 21.41c.39.39.9.59 1.41.59.51 0 1.02-.2 1.41-.59l7.78-7.78 2.81-2.81c.8-.78.8-2.07 0-2.86zM5.41 20L4 18.59l7.72-7.72 1.47 1.35L5.41 20z\"/>\n",
              "  </svg>\n",
              "      </button>\n",
              "      \n",
              "  <style>\n",
              "    .colab-df-container {\n",
              "      display:flex;\n",
              "      flex-wrap:wrap;\n",
              "      gap: 12px;\n",
              "    }\n",
              "\n",
              "    .colab-df-convert {\n",
              "      background-color: #E8F0FE;\n",
              "      border: none;\n",
              "      border-radius: 50%;\n",
              "      cursor: pointer;\n",
              "      display: none;\n",
              "      fill: #1967D2;\n",
              "      height: 32px;\n",
              "      padding: 0 0 0 0;\n",
              "      width: 32px;\n",
              "    }\n",
              "\n",
              "    .colab-df-convert:hover {\n",
              "      background-color: #E2EBFA;\n",
              "      box-shadow: 0px 1px 2px rgba(60, 64, 67, 0.3), 0px 1px 3px 1px rgba(60, 64, 67, 0.15);\n",
              "      fill: #174EA6;\n",
              "    }\n",
              "\n",
              "    [theme=dark] .colab-df-convert {\n",
              "      background-color: #3B4455;\n",
              "      fill: #D2E3FC;\n",
              "    }\n",
              "\n",
              "    [theme=dark] .colab-df-convert:hover {\n",
              "      background-color: #434B5C;\n",
              "      box-shadow: 0px 1px 3px 1px rgba(0, 0, 0, 0.15);\n",
              "      filter: drop-shadow(0px 1px 2px rgba(0, 0, 0, 0.3));\n",
              "      fill: #FFFFFF;\n",
              "    }\n",
              "  </style>\n",
              "\n",
              "      <script>\n",
              "        const buttonEl =\n",
              "          document.querySelector('#df-1cfaad1e-8233-460e-9640-45fd6ca16d29 button.colab-df-convert');\n",
              "        buttonEl.style.display =\n",
              "          google.colab.kernel.accessAllowed ? 'block' : 'none';\n",
              "\n",
              "        async function convertToInteractive(key) {\n",
              "          const element = document.querySelector('#df-1cfaad1e-8233-460e-9640-45fd6ca16d29');\n",
              "          const dataTable =\n",
              "            await google.colab.kernel.invokeFunction('convertToInteractive',\n",
              "                                                     [key], {});\n",
              "          if (!dataTable) return;\n",
              "\n",
              "          const docLinkHtml = 'Like what you see? Visit the ' +\n",
              "            '<a target=\"_blank\" href=https://colab.research.google.com/notebooks/data_table.ipynb>data table notebook</a>'\n",
              "            + ' to learn more about interactive tables.';\n",
              "          element.innerHTML = '';\n",
              "          dataTable['output_type'] = 'display_data';\n",
              "          await google.colab.output.renderOutput(dataTable, element);\n",
              "          const docLink = document.createElement('div');\n",
              "          docLink.innerHTML = docLinkHtml;\n",
              "          element.appendChild(docLink);\n",
              "        }\n",
              "      </script>\n",
              "    </div>\n",
              "  </div>\n",
              "  "
            ]
          },
          "metadata": {},
          "execution_count": 197
        }
      ]
    },
    {
      "cell_type": "code",
      "source": [
        "# distribution of target Variable\n",
        "df_1['program_class'].value_counts()"
      ],
      "metadata": {
        "colab": {
          "base_uri": "https://localhost:8080/"
        },
        "id": "A7U_RGpcQwR9",
        "outputId": "609c424a-4638-4a78-e047-74c68c602c64"
      },
      "execution_count": 198,
      "outputs": [
        {
          "output_type": "execute_result",
          "data": {
            "text/plain": [
              "2    160\n",
              "7    146\n",
              "4    139\n",
              "0    125\n",
              "3    117\n",
              "1    112\n",
              "5    110\n",
              "6    105\n",
              "Name: program_class, dtype: int64"
            ]
          },
          "metadata": {},
          "execution_count": 198
        }
      ]
    },
    {
      "cell_type": "code",
      "source": [
        "# grouping the data bas3ed on the target variable\n",
        "df_1.groupby('program_class').mean()"
      ],
      "metadata": {
        "colab": {
          "base_uri": "https://localhost:8080/",
          "height": 425
        },
        "id": "p7W1LXA9RAzd",
        "outputId": "7ff2fbf9-dab2-4ca6-94fa-84feebb4f8b7"
      },
      "execution_count": 199,
      "outputs": [
        {
          "output_type": "execute_result",
          "data": {
            "text/plain": [
              "                     X1        X2        X3        X4        X5        X6  \\\n",
              "program_class                                                               \n",
              "0              0.864613  0.893803  0.348238 -0.093701 -0.612765 -0.863068   \n",
              "1              1.396682  0.321356  0.480772 -0.291504 -0.683997 -0.898364   \n",
              "2              0.850049  1.070324 -0.051867 -0.243294 -0.676466 -1.066826   \n",
              "3              0.838032  1.430493 -0.155671 -0.309120 -0.555643 -0.816541   \n",
              "4              0.818788  1.309034 -0.071884 -0.117496 -0.613740 -0.903665   \n",
              "5              0.750793  0.863091  0.661505 -0.000295 -0.690855 -0.872358   \n",
              "6              0.636931  1.005277  0.528818 -0.015575 -0.655672 -0.833037   \n",
              "7              0.769807  0.739823  0.687586 -0.071223 -0.645511 -0.801256   \n",
              "\n",
              "                     X7        X8        X9       X10  ...       X91  \\\n",
              "program_class                                          ...             \n",
              "0             -0.841437 -0.465639 -0.160016 -0.178789  ... -0.546627   \n",
              "1             -0.668813 -0.479490 -0.266340 -0.243348  ... -0.455953   \n",
              "2             -0.938120 -0.776119 -0.331388 -0.061579  ... -0.601276   \n",
              "3             -1.274116 -0.630576 -0.385374  0.068751  ... -0.617223   \n",
              "4             -0.922438 -0.539476 -0.151645 -0.150717  ... -0.452246   \n",
              "5             -0.826822 -0.359468 -0.076242 -0.323203  ... -0.510325   \n",
              "6             -0.816544 -0.426437 -0.135535 -0.313189  ... -0.462006   \n",
              "7             -0.754440 -0.414583 -0.181468 -0.346081  ... -0.492096   \n",
              "\n",
              "                    X92       X93       X94       X95       X96       X97  \\\n",
              "program_class                                                               \n",
              "0              0.239611 -0.151698  1.009876  0.158183 -0.332369  0.088316   \n",
              "1              0.252047 -0.130146  1.747256 -0.089913 -0.357974 -0.064602   \n",
              "2             -0.015918 -0.493408  1.231542 -0.084885 -0.394918  0.315981   \n",
              "3              0.385464 -0.002448  1.602461  0.128831 -0.399272  0.019278   \n",
              "4              0.408340  0.215634  0.911475 -0.038314 -0.368372  0.134676   \n",
              "5              0.495743 -0.149612  0.499433  0.166400 -0.424727 -0.002120   \n",
              "6              0.415156 -0.190558  0.565312  0.267484 -0.402842  0.164207   \n",
              "7              0.424032 -0.230593  0.868825  0.275677 -0.376976  0.095746   \n",
              "\n",
              "                    X98       X99      X100  \n",
              "program_class                                \n",
              "0              0.790045  0.162982 -0.402859  \n",
              "1              0.966736  0.608553 -0.517589  \n",
              "2              0.550426 -0.144617 -0.548028  \n",
              "3              0.547356  0.493666 -0.465439  \n",
              "4              1.006571  0.353972 -0.379198  \n",
              "5              0.975129 -0.157692 -0.383495  \n",
              "6              0.792082 -0.063086 -0.443134  \n",
              "7              0.754881  0.044655 -0.491672  \n",
              "\n",
              "[8 rows x 100 columns]"
            ],
            "text/html": [
              "\n",
              "  <div id=\"df-64ec90bd-244f-48d2-859d-c763c5f5d2a3\">\n",
              "    <div class=\"colab-df-container\">\n",
              "      <div>\n",
              "<style scoped>\n",
              "    .dataframe tbody tr th:only-of-type {\n",
              "        vertical-align: middle;\n",
              "    }\n",
              "\n",
              "    .dataframe tbody tr th {\n",
              "        vertical-align: top;\n",
              "    }\n",
              "\n",
              "    .dataframe thead th {\n",
              "        text-align: right;\n",
              "    }\n",
              "</style>\n",
              "<table border=\"1\" class=\"dataframe\">\n",
              "  <thead>\n",
              "    <tr style=\"text-align: right;\">\n",
              "      <th></th>\n",
              "      <th>X1</th>\n",
              "      <th>X2</th>\n",
              "      <th>X3</th>\n",
              "      <th>X4</th>\n",
              "      <th>X5</th>\n",
              "      <th>X6</th>\n",
              "      <th>X7</th>\n",
              "      <th>X8</th>\n",
              "      <th>X9</th>\n",
              "      <th>X10</th>\n",
              "      <th>...</th>\n",
              "      <th>X91</th>\n",
              "      <th>X92</th>\n",
              "      <th>X93</th>\n",
              "      <th>X94</th>\n",
              "      <th>X95</th>\n",
              "      <th>X96</th>\n",
              "      <th>X97</th>\n",
              "      <th>X98</th>\n",
              "      <th>X99</th>\n",
              "      <th>X100</th>\n",
              "    </tr>\n",
              "    <tr>\n",
              "      <th>program_class</th>\n",
              "      <th></th>\n",
              "      <th></th>\n",
              "      <th></th>\n",
              "      <th></th>\n",
              "      <th></th>\n",
              "      <th></th>\n",
              "      <th></th>\n",
              "      <th></th>\n",
              "      <th></th>\n",
              "      <th></th>\n",
              "      <th></th>\n",
              "      <th></th>\n",
              "      <th></th>\n",
              "      <th></th>\n",
              "      <th></th>\n",
              "      <th></th>\n",
              "      <th></th>\n",
              "      <th></th>\n",
              "      <th></th>\n",
              "      <th></th>\n",
              "      <th></th>\n",
              "    </tr>\n",
              "  </thead>\n",
              "  <tbody>\n",
              "    <tr>\n",
              "      <th>0</th>\n",
              "      <td>0.864613</td>\n",
              "      <td>0.893803</td>\n",
              "      <td>0.348238</td>\n",
              "      <td>-0.093701</td>\n",
              "      <td>-0.612765</td>\n",
              "      <td>-0.863068</td>\n",
              "      <td>-0.841437</td>\n",
              "      <td>-0.465639</td>\n",
              "      <td>-0.160016</td>\n",
              "      <td>-0.178789</td>\n",
              "      <td>...</td>\n",
              "      <td>-0.546627</td>\n",
              "      <td>0.239611</td>\n",
              "      <td>-0.151698</td>\n",
              "      <td>1.009876</td>\n",
              "      <td>0.158183</td>\n",
              "      <td>-0.332369</td>\n",
              "      <td>0.088316</td>\n",
              "      <td>0.790045</td>\n",
              "      <td>0.162982</td>\n",
              "      <td>-0.402859</td>\n",
              "    </tr>\n",
              "    <tr>\n",
              "      <th>1</th>\n",
              "      <td>1.396682</td>\n",
              "      <td>0.321356</td>\n",
              "      <td>0.480772</td>\n",
              "      <td>-0.291504</td>\n",
              "      <td>-0.683997</td>\n",
              "      <td>-0.898364</td>\n",
              "      <td>-0.668813</td>\n",
              "      <td>-0.479490</td>\n",
              "      <td>-0.266340</td>\n",
              "      <td>-0.243348</td>\n",
              "      <td>...</td>\n",
              "      <td>-0.455953</td>\n",
              "      <td>0.252047</td>\n",
              "      <td>-0.130146</td>\n",
              "      <td>1.747256</td>\n",
              "      <td>-0.089913</td>\n",
              "      <td>-0.357974</td>\n",
              "      <td>-0.064602</td>\n",
              "      <td>0.966736</td>\n",
              "      <td>0.608553</td>\n",
              "      <td>-0.517589</td>\n",
              "    </tr>\n",
              "    <tr>\n",
              "      <th>2</th>\n",
              "      <td>0.850049</td>\n",
              "      <td>1.070324</td>\n",
              "      <td>-0.051867</td>\n",
              "      <td>-0.243294</td>\n",
              "      <td>-0.676466</td>\n",
              "      <td>-1.066826</td>\n",
              "      <td>-0.938120</td>\n",
              "      <td>-0.776119</td>\n",
              "      <td>-0.331388</td>\n",
              "      <td>-0.061579</td>\n",
              "      <td>...</td>\n",
              "      <td>-0.601276</td>\n",
              "      <td>-0.015918</td>\n",
              "      <td>-0.493408</td>\n",
              "      <td>1.231542</td>\n",
              "      <td>-0.084885</td>\n",
              "      <td>-0.394918</td>\n",
              "      <td>0.315981</td>\n",
              "      <td>0.550426</td>\n",
              "      <td>-0.144617</td>\n",
              "      <td>-0.548028</td>\n",
              "    </tr>\n",
              "    <tr>\n",
              "      <th>3</th>\n",
              "      <td>0.838032</td>\n",
              "      <td>1.430493</td>\n",
              "      <td>-0.155671</td>\n",
              "      <td>-0.309120</td>\n",
              "      <td>-0.555643</td>\n",
              "      <td>-0.816541</td>\n",
              "      <td>-1.274116</td>\n",
              "      <td>-0.630576</td>\n",
              "      <td>-0.385374</td>\n",
              "      <td>0.068751</td>\n",
              "      <td>...</td>\n",
              "      <td>-0.617223</td>\n",
              "      <td>0.385464</td>\n",
              "      <td>-0.002448</td>\n",
              "      <td>1.602461</td>\n",
              "      <td>0.128831</td>\n",
              "      <td>-0.399272</td>\n",
              "      <td>0.019278</td>\n",
              "      <td>0.547356</td>\n",
              "      <td>0.493666</td>\n",
              "      <td>-0.465439</td>\n",
              "    </tr>\n",
              "    <tr>\n",
              "      <th>4</th>\n",
              "      <td>0.818788</td>\n",
              "      <td>1.309034</td>\n",
              "      <td>-0.071884</td>\n",
              "      <td>-0.117496</td>\n",
              "      <td>-0.613740</td>\n",
              "      <td>-0.903665</td>\n",
              "      <td>-0.922438</td>\n",
              "      <td>-0.539476</td>\n",
              "      <td>-0.151645</td>\n",
              "      <td>-0.150717</td>\n",
              "      <td>...</td>\n",
              "      <td>-0.452246</td>\n",
              "      <td>0.408340</td>\n",
              "      <td>0.215634</td>\n",
              "      <td>0.911475</td>\n",
              "      <td>-0.038314</td>\n",
              "      <td>-0.368372</td>\n",
              "      <td>0.134676</td>\n",
              "      <td>1.006571</td>\n",
              "      <td>0.353972</td>\n",
              "      <td>-0.379198</td>\n",
              "    </tr>\n",
              "    <tr>\n",
              "      <th>5</th>\n",
              "      <td>0.750793</td>\n",
              "      <td>0.863091</td>\n",
              "      <td>0.661505</td>\n",
              "      <td>-0.000295</td>\n",
              "      <td>-0.690855</td>\n",
              "      <td>-0.872358</td>\n",
              "      <td>-0.826822</td>\n",
              "      <td>-0.359468</td>\n",
              "      <td>-0.076242</td>\n",
              "      <td>-0.323203</td>\n",
              "      <td>...</td>\n",
              "      <td>-0.510325</td>\n",
              "      <td>0.495743</td>\n",
              "      <td>-0.149612</td>\n",
              "      <td>0.499433</td>\n",
              "      <td>0.166400</td>\n",
              "      <td>-0.424727</td>\n",
              "      <td>-0.002120</td>\n",
              "      <td>0.975129</td>\n",
              "      <td>-0.157692</td>\n",
              "      <td>-0.383495</td>\n",
              "    </tr>\n",
              "    <tr>\n",
              "      <th>6</th>\n",
              "      <td>0.636931</td>\n",
              "      <td>1.005277</td>\n",
              "      <td>0.528818</td>\n",
              "      <td>-0.015575</td>\n",
              "      <td>-0.655672</td>\n",
              "      <td>-0.833037</td>\n",
              "      <td>-0.816544</td>\n",
              "      <td>-0.426437</td>\n",
              "      <td>-0.135535</td>\n",
              "      <td>-0.313189</td>\n",
              "      <td>...</td>\n",
              "      <td>-0.462006</td>\n",
              "      <td>0.415156</td>\n",
              "      <td>-0.190558</td>\n",
              "      <td>0.565312</td>\n",
              "      <td>0.267484</td>\n",
              "      <td>-0.402842</td>\n",
              "      <td>0.164207</td>\n",
              "      <td>0.792082</td>\n",
              "      <td>-0.063086</td>\n",
              "      <td>-0.443134</td>\n",
              "    </tr>\n",
              "    <tr>\n",
              "      <th>7</th>\n",
              "      <td>0.769807</td>\n",
              "      <td>0.739823</td>\n",
              "      <td>0.687586</td>\n",
              "      <td>-0.071223</td>\n",
              "      <td>-0.645511</td>\n",
              "      <td>-0.801256</td>\n",
              "      <td>-0.754440</td>\n",
              "      <td>-0.414583</td>\n",
              "      <td>-0.181468</td>\n",
              "      <td>-0.346081</td>\n",
              "      <td>...</td>\n",
              "      <td>-0.492096</td>\n",
              "      <td>0.424032</td>\n",
              "      <td>-0.230593</td>\n",
              "      <td>0.868825</td>\n",
              "      <td>0.275677</td>\n",
              "      <td>-0.376976</td>\n",
              "      <td>0.095746</td>\n",
              "      <td>0.754881</td>\n",
              "      <td>0.044655</td>\n",
              "      <td>-0.491672</td>\n",
              "    </tr>\n",
              "  </tbody>\n",
              "</table>\n",
              "<p>8 rows × 100 columns</p>\n",
              "</div>\n",
              "      <button class=\"colab-df-convert\" onclick=\"convertToInteractive('df-64ec90bd-244f-48d2-859d-c763c5f5d2a3')\"\n",
              "              title=\"Convert this dataframe to an interactive table.\"\n",
              "              style=\"display:none;\">\n",
              "        \n",
              "  <svg xmlns=\"http://www.w3.org/2000/svg\" height=\"24px\"viewBox=\"0 0 24 24\"\n",
              "       width=\"24px\">\n",
              "    <path d=\"M0 0h24v24H0V0z\" fill=\"none\"/>\n",
              "    <path d=\"M18.56 5.44l.94 2.06.94-2.06 2.06-.94-2.06-.94-.94-2.06-.94 2.06-2.06.94zm-11 1L8.5 8.5l.94-2.06 2.06-.94-2.06-.94L8.5 2.5l-.94 2.06-2.06.94zm10 10l.94 2.06.94-2.06 2.06-.94-2.06-.94-.94-2.06-.94 2.06-2.06.94z\"/><path d=\"M17.41 7.96l-1.37-1.37c-.4-.4-.92-.59-1.43-.59-.52 0-1.04.2-1.43.59L10.3 9.45l-7.72 7.72c-.78.78-.78 2.05 0 2.83L4 21.41c.39.39.9.59 1.41.59.51 0 1.02-.2 1.41-.59l7.78-7.78 2.81-2.81c.8-.78.8-2.07 0-2.86zM5.41 20L4 18.59l7.72-7.72 1.47 1.35L5.41 20z\"/>\n",
              "  </svg>\n",
              "      </button>\n",
              "      \n",
              "  <style>\n",
              "    .colab-df-container {\n",
              "      display:flex;\n",
              "      flex-wrap:wrap;\n",
              "      gap: 12px;\n",
              "    }\n",
              "\n",
              "    .colab-df-convert {\n",
              "      background-color: #E8F0FE;\n",
              "      border: none;\n",
              "      border-radius: 50%;\n",
              "      cursor: pointer;\n",
              "      display: none;\n",
              "      fill: #1967D2;\n",
              "      height: 32px;\n",
              "      padding: 0 0 0 0;\n",
              "      width: 32px;\n",
              "    }\n",
              "\n",
              "    .colab-df-convert:hover {\n",
              "      background-color: #E2EBFA;\n",
              "      box-shadow: 0px 1px 2px rgba(60, 64, 67, 0.3), 0px 1px 3px 1px rgba(60, 64, 67, 0.15);\n",
              "      fill: #174EA6;\n",
              "    }\n",
              "\n",
              "    [theme=dark] .colab-df-convert {\n",
              "      background-color: #3B4455;\n",
              "      fill: #D2E3FC;\n",
              "    }\n",
              "\n",
              "    [theme=dark] .colab-df-convert:hover {\n",
              "      background-color: #434B5C;\n",
              "      box-shadow: 0px 1px 3px 1px rgba(0, 0, 0, 0.15);\n",
              "      filter: drop-shadow(0px 1px 2px rgba(0, 0, 0, 0.3));\n",
              "      fill: #FFFFFF;\n",
              "    }\n",
              "  </style>\n",
              "\n",
              "      <script>\n",
              "        const buttonEl =\n",
              "          document.querySelector('#df-64ec90bd-244f-48d2-859d-c763c5f5d2a3 button.colab-df-convert');\n",
              "        buttonEl.style.display =\n",
              "          google.colab.kernel.accessAllowed ? 'block' : 'none';\n",
              "\n",
              "        async function convertToInteractive(key) {\n",
              "          const element = document.querySelector('#df-64ec90bd-244f-48d2-859d-c763c5f5d2a3');\n",
              "          const dataTable =\n",
              "            await google.colab.kernel.invokeFunction('convertToInteractive',\n",
              "                                                     [key], {});\n",
              "          if (!dataTable) return;\n",
              "\n",
              "          const docLinkHtml = 'Like what you see? Visit the ' +\n",
              "            '<a target=\"_blank\" href=https://colab.research.google.com/notebooks/data_table.ipynb>data table notebook</a>'\n",
              "            + ' to learn more about interactive tables.';\n",
              "          element.innerHTML = '';\n",
              "          dataTable['output_type'] = 'display_data';\n",
              "          await google.colab.output.renderOutput(dataTable, element);\n",
              "          const docLink = document.createElement('div');\n",
              "          docLink.innerHTML = docLinkHtml;\n",
              "          element.appendChild(docLink);\n",
              "        }\n",
              "      </script>\n",
              "    </div>\n",
              "  </div>\n",
              "  "
            ]
          },
          "metadata": {},
          "execution_count": 199
        }
      ]
    },
    {
      "cell_type": "markdown",
      "source": [
        "Separating the features & Target"
      ],
      "metadata": {
        "id": "kIHugLxQUyMl"
      }
    },
    {
      "cell_type": "code",
      "source": [
        "X = df_1.drop(columns=['program_class'], axis=1)\n",
        "Y = df_1['program_class']"
      ],
      "metadata": {
        "id": "kBvEfabbRTzy"
      },
      "execution_count": 207,
      "outputs": []
    },
    {
      "cell_type": "code",
      "source": [
        "print(X)"
      ],
      "metadata": {
        "colab": {
          "base_uri": "https://localhost:8080/"
        },
        "id": "Y9S6qx8zVdZ2",
        "outputId": "62d796e9-2fe9-4be0-f661-8f0d5260f6b1"
      },
      "execution_count": 208,
      "outputs": [
        {
          "output_type": "stream",
          "name": "stdout",
          "text": [
            "            X1        X2        X3        X4        X5        X6        X7  \\\n",
            "0     0.803361  0.891430  0.291782 -0.133472 -0.589370 -0.872625 -0.892155   \n",
            "1     0.809541  0.993028  0.178098 -0.012274 -0.622973 -0.899832 -0.894746   \n",
            "2     1.753063  0.347486  0.600966 -0.247631 -0.703262 -0.892621 -0.693802   \n",
            "3     1.615161  0.210182  0.444439 -0.347291 -0.698180 -0.904133 -0.665873   \n",
            "4     1.554907  0.497785 -0.150818 -0.303005 -0.852941 -1.178082 -0.813398   \n",
            "...        ...       ...       ...       ...       ...       ...       ...   \n",
            "1009  0.519413  1.155052 -0.037608 -0.373720 -0.651702 -1.113914 -0.950712   \n",
            "1010  1.397075  0.279183  0.478804 -0.295982 -0.677741 -0.889968 -0.641413   \n",
            "1011  0.892936  1.273365 -0.161677 -0.320483 -0.565624 -0.788946 -1.232887   \n",
            "1012  0.547191  0.973903  0.590967 -0.068641 -0.700892 -0.866942 -0.808157   \n",
            "1013  0.595540  1.008339  0.409778 -0.015295 -0.621308 -0.775988 -0.787940   \n",
            "\n",
            "            X8        X9       X10  ...       X91       X92       X93  \\\n",
            "0    -0.455649 -0.114277 -0.204636  ... -0.572940  0.227705 -0.156447   \n",
            "1    -0.441966 -0.168317 -0.112289  ... -0.572691  0.246669 -0.117999   \n",
            "2    -0.506580 -0.259751 -0.209175  ... -0.431560  0.347937 -0.291803   \n",
            "3    -0.532533 -0.315836 -0.213514  ... -0.434826  0.230893 -0.091521   \n",
            "4    -0.660274 -0.226336 -0.265989  ... -0.694577 -0.256819 -0.568542   \n",
            "...        ...       ...       ...  ...       ...       ...       ...   \n",
            "1009 -0.840650 -0.408556  0.060522  ... -0.550526  0.198466  0.200227   \n",
            "1010 -0.455288 -0.266494 -0.273042  ... -0.456218  0.222360 -0.153315   \n",
            "1011 -0.624596 -0.398989  0.078313  ... -0.584236  0.376404  0.016657   \n",
            "1012 -0.422120 -0.156412 -0.361999  ... -0.495802  0.485512 -0.214549   \n",
            "1013 -0.397051 -0.121802 -0.315928  ... -0.395006  0.406789 -0.160580   \n",
            "\n",
            "           X94       X95       X96       X97       X98       X99      X100  \n",
            "0     0.838078  0.167660 -0.340320  0.084975  0.781900 -0.007967 -0.350443  \n",
            "1     0.833008  0.116859 -0.341445  0.200918  0.728100  0.058798 -0.332833  \n",
            "2     1.771800 -0.080223 -0.342099 -0.050913  1.220905  0.617236 -0.546766  \n",
            "3     2.176843 -0.154408 -0.326991 -0.066966  0.934388  0.912971 -0.573364  \n",
            "4     1.670732 -0.361402 -0.517083 -0.121676  0.675599 -0.297152 -0.500650  \n",
            "...        ...       ...       ...       ...       ...       ...       ...  \n",
            "1009  1.580444 -0.093576 -0.349860  0.392507  0.656873  0.406191 -0.586877  \n",
            "1010  1.758252 -0.103903 -0.364992 -0.100010  0.953557  0.601551 -0.512046  \n",
            "1011  1.648405  0.015999 -0.389932 -0.005845  0.584647  0.580288 -0.467226  \n",
            "1012  0.715803  0.377134 -0.431451  0.208476  0.719122 -0.033232 -0.496096  \n",
            "1013  0.419425  0.218011 -0.392775  0.169065  0.817743 -0.092467 -0.433817  \n",
            "\n",
            "[1014 rows x 100 columns]\n"
          ]
        }
      ]
    },
    {
      "cell_type": "code",
      "source": [
        "print(Y)"
      ],
      "metadata": {
        "colab": {
          "base_uri": "https://localhost:8080/"
        },
        "id": "qrqAEukGYJdr",
        "outputId": "ecaa29e0-5a68-4883-eb99-b858894f5c55"
      },
      "execution_count": 209,
      "outputs": [
        {
          "output_type": "stream",
          "name": "stdout",
          "text": [
            "0       0\n",
            "1       0\n",
            "2       1\n",
            "3       1\n",
            "4       2\n",
            "       ..\n",
            "1009    4\n",
            "1010    1\n",
            "1011    3\n",
            "1012    6\n",
            "1013    6\n",
            "Name: program_class, Length: 1014, dtype: int64\n"
          ]
        }
      ]
    },
    {
      "cell_type": "markdown",
      "source": [
        "Splitting the data to training data & Test data"
      ],
      "metadata": {
        "id": "xEDfYcljYekD"
      }
    },
    {
      "cell_type": "code",
      "source": [
        "from sklearn.model_selection import train_test_split\n",
        "from sklearn.preprocessing import StandardScaler\n",
        "from sklearn import svm\n",
        "from sklearn.metrics import accuracy_score"
      ],
      "metadata": {
        "id": "oWXwxeOSY0az"
      },
      "execution_count": 211,
      "outputs": []
    },
    {
      "cell_type": "code",
      "source": [
        "X_train, X_test, Y_train, Y_test = train_test_split(X, Y, test_size=0.2, random_state=2)"
      ],
      "metadata": {
        "id": "i-moxfpSYNkP"
      },
      "execution_count": 212,
      "outputs": []
    },
    {
      "cell_type": "code",
      "source": [
        "print(X.shape, X_train.shape, X_test.shape)"
      ],
      "metadata": {
        "colab": {
          "base_uri": "https://localhost:8080/"
        },
        "id": "c-QuR9QeY2K0",
        "outputId": "77d0f5a6-3db8-4499-c07f-e3cd47623993"
      },
      "execution_count": 213,
      "outputs": [
        {
          "output_type": "stream",
          "name": "stdout",
          "text": [
            "(1014, 100) (811, 100) (203, 100)\n"
          ]
        }
      ]
    },
    {
      "cell_type": "markdown",
      "source": [
        "Model Training : Support Vector Machine"
      ],
      "metadata": {
        "id": "wlbUT2Cbbsnj"
      }
    },
    {
      "cell_type": "code",
      "source": [
        "model = svm.SVC(kernel='poly')"
      ],
      "metadata": {
        "id": "g0-CLsgycD2A"
      },
      "execution_count": 215,
      "outputs": []
    },
    {
      "cell_type": "code",
      "source": [
        "# training the SVM model with training data\n",
        "model.fit(X_train, Y_train)"
      ],
      "metadata": {
        "colab": {
          "base_uri": "https://localhost:8080/"
        },
        "id": "y7fYJ2bMcVcD",
        "outputId": "bf77a945-6e13-4ca1-c2a1-f88c12799ce1"
      },
      "execution_count": 216,
      "outputs": [
        {
          "output_type": "execute_result",
          "data": {
            "text/plain": [
              "SVC(kernel='poly')"
            ]
          },
          "metadata": {},
          "execution_count": 216
        }
      ]
    },
    {
      "cell_type": "markdown",
      "source": [
        "Model Evaluation"
      ],
      "metadata": {
        "id": "OJ09SY6CbQ2F"
      }
    },
    {
      "cell_type": "markdown",
      "source": [
        "Accuracy Score"
      ],
      "metadata": {
        "id": "F6_Acq7LbUK7"
      }
    },
    {
      "cell_type": "code",
      "source": [
        "# accuracy score on training data\n",
        "X_train_prediction = model.predict(X_train)\n",
        "training_data_accuracy = accuracy_score(Y_train, X_train_prediction)"
      ],
      "metadata": {
        "id": "M5IySX3UY8sV"
      },
      "execution_count": 221,
      "outputs": []
    },
    {
      "cell_type": "code",
      "source": [
        "print('Accuracy score of training data : ', training_data_accuracy)"
      ],
      "metadata": {
        "colab": {
          "base_uri": "https://localhost:8080/"
        },
        "id": "FlgerLSBchFH",
        "outputId": "0c36ca71-3263-4a2f-a3db-b2ba6c433158"
      },
      "execution_count": 222,
      "outputs": [
        {
          "output_type": "stream",
          "name": "stdout",
          "text": [
            "Accuracy score of training data :  0.9839704069050554\n"
          ]
        }
      ]
    },
    {
      "cell_type": "code",
      "source": [
        "# accuracy score on training data\n",
        "X_test_prediction = model.predict(X_test)\n",
        "test_data_accuracy = accuracy_score(Y_test, X_test_prediction)"
      ],
      "metadata": {
        "id": "uNYpgIpabpZj"
      },
      "execution_count": 223,
      "outputs": []
    },
    {
      "cell_type": "code",
      "source": [
        "print('Accuracy score of test data : ', test_data_accuracy)"
      ],
      "metadata": {
        "colab": {
          "base_uri": "https://localhost:8080/"
        },
        "id": "ha9tpr0ucmJq",
        "outputId": "bb7c01b1-2a8a-4386-e30a-0956f7e3df32"
      },
      "execution_count": 224,
      "outputs": [
        {
          "output_type": "stream",
          "name": "stdout",
          "text": [
            "Accuracy score of test data :  0.9852216748768473\n"
          ]
        }
      ]
    },
    {
      "cell_type": "code",
      "source": [
        "def minimum_1(liste):\n",
        "    min = liste[0]\n",
        "    for i in liste:\n",
        "        if i <= min:\n",
        "            min = i\n",
        "    return min"
      ],
      "metadata": {
        "id": "nfIW0HMrmJz5"
      },
      "execution_count": 241,
      "outputs": []
    },
    {
      "cell_type": "code",
      "source": [
        "minimum_1([10,14,9,30])"
      ],
      "metadata": {
        "colab": {
          "base_uri": "https://localhost:8080/"
        },
        "id": "r7AIULPVmr05",
        "outputId": "4b761e14-3e6d-419d-dd84-ac4e279ff15e"
      },
      "execution_count": 242,
      "outputs": [
        {
          "output_type": "execute_result",
          "data": {
            "text/plain": [
              "9"
            ]
          },
          "metadata": {},
          "execution_count": 242
        }
      ]
    },
    {
      "cell_type": "markdown",
      "source": [
        "Building a Predictive System "
      ],
      "metadata": {
        "id": "4BYVQy56n8TI"
      }
    },
    {
      "cell_type": "code",
      "source": [
        "input_filepath_value = \"/content/minimum.py\"\n",
        "output_filepath_value = \"/content/minimum_vector.txt\"\n",
        "embed_a_program(input_filepath_value, output_filepath_value)"
      ],
      "metadata": {
        "colab": {
          "base_uri": "https://localhost:8080/"
        },
        "id": "13Z7AzT-ngKq",
        "outputId": "9c738497-916b-4897-b391-80d7463332fe"
      },
      "execution_count": 243,
      "outputs": [
        {
          "output_type": "stream",
          "name": "stdout",
          "text": [
            "(1, 100)\n",
            "[[ 1.4829062   0.35083547  0.56211287  0.3621653  -0.7880337  -0.9593244\n",
            "  -0.8974653  -0.36932665 -0.09009784 -0.36469203 -0.57780546 -1.0668889\n",
            "   0.01458559 -0.29301247 -0.79305536  0.62766147 -0.6849505   0.35563284\n",
            "  -0.3284987   1.0022595   1.997436   -0.48084575 -0.6652456  -0.61917263\n",
            "  -0.06482616 -0.6175631  -0.15783598 -0.3776961  -0.34699392 -0.88078123\n",
            "  -0.3116489  -0.5075576   0.353488   -0.0585212  -0.5398117  -0.37963605\n",
            "   0.21115528  0.6112697  -1.0000474  -0.61630636 -0.5951341  -0.39917594\n",
            "  -0.55134344  1.7992258   1.7898452   0.64403486 -0.36396492 -0.39268216\n",
            "   0.08678153 -0.11789591  1.9158605   2.2976995   0.23912576 -0.06544843\n",
            "  -0.8189861  -0.9434498  -0.96262556  0.8765695  -0.42408946  0.6914811\n",
            "  -0.3071615  -0.30719146  0.08116735 -0.40800813 -0.4773215  -0.7005017\n",
            "  -1.0669881  -0.5305742  -0.43258595 -0.75404817  0.03080945 -0.7851334\n",
            "  -0.4866256   1.4469465   0.64755934 -0.00888569 -0.6095063  -0.46823338\n",
            "  -0.25769114 -0.14631592  0.09083325 -0.4439637  -0.47429478 -0.6719344\n",
            "  -0.33061802 -1.0098058  -0.5100968   0.73510116  0.46606007  1.920765\n",
            "  -0.5737446   0.36588463 -0.315427    1.1687993  -0.15932043 -0.535777\n",
            "  -0.18230562  1.3283595  -0.20432153 -0.3910027 ]]\n"
          ]
        }
      ]
    },
    {
      "cell_type": "code",
      "source": [
        "file = open(\"/content/minimum_vector.txt\", \"r\")\n",
        "content = file.read()\n",
        "t=content.replace(\"[[\",\"\")\n",
        "t_1=t.replace(\"]]\",\"\")\n",
        "arr_1=t_1.split()\n",
        "for j in range(len(arr_1)) :\n",
        "  arr_1[j]=float(arr_1[j])"
      ],
      "metadata": {
        "id": "zjQhcP7Noiew"
      },
      "execution_count": 245,
      "outputs": []
    },
    {
      "cell_type": "code",
      "source": [
        "print(arr_1)"
      ],
      "metadata": {
        "colab": {
          "base_uri": "https://localhost:8080/"
        },
        "id": "ryWRd9apraTw",
        "outputId": "3b0a0041-7afd-4eb3-cc0f-6f02eb23527b"
      },
      "execution_count": 246,
      "outputs": [
        {
          "output_type": "stream",
          "name": "stdout",
          "text": [
            "[1.4829062, 0.35083547, 0.56211287, 0.3621653, -0.7880337, -0.9593244, -0.8974653, -0.36932665, -0.09009784, -0.36469203, -0.57780546, -1.0668889, 0.01458559, -0.29301247, -0.79305536, 0.62766147, -0.6849505, 0.35563284, -0.3284987, 1.0022595, 1.997436, -0.48084575, -0.6652456, -0.61917263, -0.06482616, -0.6175631, -0.15783598, -0.3776961, -0.34699392, -0.88078123, -0.3116489, -0.5075576, 0.353488, -0.0585212, -0.5398117, -0.37963605, 0.21115528, 0.6112697, -1.0000474, -0.61630636, -0.5951341, -0.39917594, -0.55134344, 1.7992258, 1.7898452, 0.64403486, -0.36396492, -0.39268216, 0.08678153, -0.11789591, 1.9158605, 2.2976995, 0.23912576, -0.06544843, -0.8189861, -0.9434498, -0.96262556, 0.8765695, -0.42408946, 0.6914811, -0.3071615, -0.30719146, 0.08116735, -0.40800813, -0.4773215, -0.7005017, -1.0669881, -0.5305742, -0.43258595, -0.75404817, 0.03080945, -0.7851334, -0.4866256, 1.4469465, 0.64755934, -0.00888569, -0.6095063, -0.46823338, -0.25769114, -0.14631592, 0.09083325, -0.4439637, -0.47429478, -0.6719344, -0.33061802, -1.0098058, -0.5100968, 0.73510116, 0.46606007, 1.920765, -0.5737446, 0.36588463, -0.315427, 1.1687993, -0.15932043, -0.535777, -0.18230562, 1.3283595, -0.20432153, -0.3910027]\n"
          ]
        }
      ]
    },
    {
      "cell_type": "code",
      "source": [
        "input_data = arr_1\n",
        "\n",
        "# changing input data to a numpy array\n",
        "input_data_as_numpy_array = np.asarray(input_data)\n",
        "\n",
        "# reshape the numpy array\n",
        "input_data_reshaped = input_data_as_numpy_array.reshape(1,-1)\n",
        "\n",
        "# Predictive class\n",
        "prediction = model.predict(input_data_reshaped)\n",
        "\n",
        "print(prediction[0])\n",
        "if (prediction[0] == 5):\n",
        "  print(\"Good predicition : the program belong to minimum class\")\n",
        "\n",
        "else:\n",
        "  print(\"Wrong prediction :( \")"
      ],
      "metadata": {
        "colab": {
          "base_uri": "https://localhost:8080/"
        },
        "id": "CiNzWI2VnoDN",
        "outputId": "f777c021-18e4-4092-e57e-cb9d74d74ec3"
      },
      "execution_count": 251,
      "outputs": [
        {
          "output_type": "stream",
          "name": "stdout",
          "text": [
            "5\n",
            "Good predicition : the program belong to minimum class\n"
          ]
        }
      ]
    }
  ],
  "metadata": {
    "colab": {
      "collapsed_sections": [
        "OEWmlns1Pfpj",
        "HIuV5dsmPuEh",
        "IMXakApeQX4D"
      ],
      "name": "Infercode_FineTuning.ipynb",
      "provenance": []
    },
    "kernelspec": {
      "display_name": "Python 3",
      "name": "python3"
    },
    "language_info": {
      "name": "python"
    }
  },
  "nbformat": 4,
  "nbformat_minor": 0
}